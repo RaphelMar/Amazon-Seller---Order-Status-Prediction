{
 "cells": [
  {
   "cell_type": "markdown",
   "id": "9469afb6",
   "metadata": {},
   "source": [
    "# Sobre Dataset\n",
    "\n",
    "\n",
    "## Contexto\n",
    "\n",
    "A BL é uma pequena empresa de produtos de couro que recentemente começou a vender seus produtos na Amazon. Atualmente, possui cerca de 40 SKUs registrados no Mercado Indiano. Nos últimos meses, sofreu algumas perdas devido às ordens de devolução. Agora, BL procura ajuda para prever a probabilidade de uma nova ordem ser rejeitada. Isso os ajudaria a tomar as ações necessárias e, posteriormente, reduzir a perda.\n",
    "\n",
    "## Objetivo\n",
    "\n",
    "Para construir um modelo que predize o status da ordem ( Delivered to buyer ou Returned to seller)\n",
    "\n",
    "## Dicionário de Dados\n",
    "\n",
    "Os dados do Pedido são fornecidos em um arquivo excel. As colunas são:\n",
    "\n",
    "    order_no - Número único da ordem da Amazon\n",
    "    order_date - Data em que o pedido foi colocado\n",
    "    buyer - Nome do comprador\n",
    "    ship_city - Cidade do Endereço de Entrega\n",
    "    ship_state - Estado do endereço de entrega\n",
    "    sku - Unique identificador de um produto\n",
    "    description - Descrição do produto\n",
    "    quantity - Número de unidades encomendadas\n",
    "    item_total - Valor total pago pelo comprador\n",
    "    shipping_fee - Cargas suportadas pelo Boss Leathers para enviar o item\n",
    "    cod - Modo de pagamento: Dinheiro na entrega ou não\n",
    "\n",
    "### Label / Recurso de destino:\n",
    "\n",
    "    order_status - Status da ordem"
   ]
  },
  {
   "cell_type": "markdown",
   "id": "1b4dde36",
   "metadata": {},
   "source": [
    "# Pipeline do Projeto\n",
    "\n",
    "1. Importação das Bibliotecas;\n",
    "0. Entendimento dos dados;\n",
    "0. Tratamento dos dados (dados faltantes, coversão de valores, e criação das características de tempo)\n",
    "0. Entendimento dos dados após tratamentos;\n",
    "0. Visualizar insights do negócio;\n",
    "0. Resumo dos insights;\n",
    "0. Visualizando correlação dos dados;\n",
    "0. Treinando modelos;\n",
    "0. Avaliando modelos;\n",
    "0. Resumo dos modelos"
   ]
  },
  {
   "cell_type": "markdown",
   "id": "ba487c10",
   "metadata": {},
   "source": [
    "# 1. Importação das Bibliotecas"
   ]
  },
  {
   "cell_type": "code",
   "execution_count": 1,
   "id": "22f083de",
   "metadata": {},
   "outputs": [],
   "source": [
    "import warnings\n",
    "warnings.simplefilter('ignore')\n",
    "\n",
    "import numpy as np\n",
    "import pandas as pd\n",
    "import seaborn as sns\n",
    "import matplotlib.pyplot as plt\n",
    "\n",
    "from sklearn.preprocessing import LabelEncoder, StandardScaler\n",
    "\n",
    "from sklearn.svm import LinearSVC\n",
    "from sklearn.tree import DecisionTreeClassifier\n",
    "from sklearn.neighbors import KNeighborsClassifier\n",
    "from sklearn.linear_model import LogisticRegression\n",
    "\n",
    "from sklearn.model_selection import GridSearchCV\n",
    "from sklearn.model_selection import train_test_split\n",
    "from sklearn.metrics import (\n",
    "    \n",
    "    f1_score,\n",
    "    log_loss,\n",
    "    recall_score,\n",
    "    roc_auc_score,\n",
    "    accuracy_score,\n",
    "    precision_score,\n",
    "    confusion_matrix,\n",
    "    brier_score_loss,\n",
    "    roc_curve,\n",
    "    auc\n",
    ")"
   ]
  },
  {
   "cell_type": "markdown",
   "id": "ba284dc4",
   "metadata": {},
   "source": [
    "# 2. Entendimento dos dados"
   ]
  },
  {
   "cell_type": "code",
   "execution_count": 2,
   "id": "cb4e2d19",
   "metadata": {},
   "outputs": [],
   "source": [
    "# Importação do dataframe\n",
    "df = pd.read_excel('../Data/orders_data.xlsx')"
   ]
  },
  {
   "cell_type": "code",
   "execution_count": 3,
   "id": "4902b747",
   "metadata": {},
   "outputs": [
    {
     "name": "stdout",
     "output_type": "stream",
     "text": [
      "<class 'pandas.core.frame.DataFrame'>\n",
      "RangeIndex: 171 entries, 0 to 170\n",
      "Data columns (total 12 columns):\n",
      " #   Column        Non-Null Count  Dtype \n",
      "---  ------        --------------  ----- \n",
      " 0   order_no      171 non-null    object\n",
      " 1   order_date    171 non-null    object\n",
      " 2   buyer         171 non-null    object\n",
      " 3   ship_city     171 non-null    object\n",
      " 4   ship_state    171 non-null    object\n",
      " 5   sku           171 non-null    object\n",
      " 6   description   171 non-null    object\n",
      " 7   quantity      171 non-null    int64 \n",
      " 8   item_total    153 non-null    object\n",
      " 9   shipping_fee  145 non-null    object\n",
      " 10  cod           47 non-null     object\n",
      " 11  order_status  171 non-null    object\n",
      "dtypes: int64(1), object(11)\n",
      "memory usage: 16.2+ KB\n"
     ]
    }
   ],
   "source": [
    "df.info()"
   ]
  },
  {
   "cell_type": "code",
   "execution_count": 4,
   "id": "5027adc0",
   "metadata": {},
   "outputs": [
    {
     "data": {
      "text/plain": [
       "order_no          0\n",
       "order_date        0\n",
       "buyer             0\n",
       "ship_city         0\n",
       "ship_state        0\n",
       "sku               0\n",
       "description       0\n",
       "quantity          0\n",
       "item_total       18\n",
       "shipping_fee     26\n",
       "cod             124\n",
       "order_status      0\n",
       "dtype: int64"
      ]
     },
     "execution_count": 4,
     "metadata": {},
     "output_type": "execute_result"
    }
   ],
   "source": [
    "df.isnull().sum()"
   ]
  },
  {
   "cell_type": "code",
   "execution_count": 5,
   "id": "df7a705d",
   "metadata": {},
   "outputs": [
    {
     "data": {
      "text/html": [
       "<div>\n",
       "<style scoped>\n",
       "    .dataframe tbody tr th:only-of-type {\n",
       "        vertical-align: middle;\n",
       "    }\n",
       "\n",
       "    .dataframe tbody tr th {\n",
       "        vertical-align: top;\n",
       "    }\n",
       "\n",
       "    .dataframe thead th {\n",
       "        text-align: right;\n",
       "    }\n",
       "</style>\n",
       "<table border=\"1\" class=\"dataframe\">\n",
       "  <thead>\n",
       "    <tr style=\"text-align: right;\">\n",
       "      <th></th>\n",
       "      <th>order_no</th>\n",
       "      <th>order_date</th>\n",
       "      <th>buyer</th>\n",
       "      <th>ship_city</th>\n",
       "      <th>ship_state</th>\n",
       "      <th>sku</th>\n",
       "      <th>description</th>\n",
       "      <th>quantity</th>\n",
       "      <th>item_total</th>\n",
       "      <th>shipping_fee</th>\n",
       "      <th>cod</th>\n",
       "      <th>order_status</th>\n",
       "    </tr>\n",
       "  </thead>\n",
       "  <tbody>\n",
       "    <tr>\n",
       "      <th>12</th>\n",
       "      <td>402-5321389-8685152</td>\n",
       "      <td>Sat, 16 Oct, 2021, 10:11 am IST</td>\n",
       "      <td>Blessan</td>\n",
       "      <td>COONOOR,</td>\n",
       "      <td>TAMIL NADU</td>\n",
       "      <td>SKU:  94-TSV3-EIW6</td>\n",
       "      <td>Bright and Colorful Shantiniketan Leather Elep...</td>\n",
       "      <td>1</td>\n",
       "      <td>₹449.00</td>\n",
       "      <td>₹84.96</td>\n",
       "      <td>Cash On Delivery</td>\n",
       "      <td>Delivered to buyer</td>\n",
       "    </tr>\n",
       "    <tr>\n",
       "      <th>23</th>\n",
       "      <td>406-9975868-3000368</td>\n",
       "      <td>Wed, 20 Oct, 2021, 10:15 pm IST</td>\n",
       "      <td>Hema</td>\n",
       "      <td>BENGALURU,</td>\n",
       "      <td>KARNATAKA</td>\n",
       "      <td>SKU:  AY-Z7BT-BMVM</td>\n",
       "      <td>Women's Pure Leather Jhallar Clutch Purse with...</td>\n",
       "      <td>1</td>\n",
       "      <td>₹399.00</td>\n",
       "      <td>₹84.96</td>\n",
       "      <td>NaN</td>\n",
       "      <td>Delivered to buyer</td>\n",
       "    </tr>\n",
       "    <tr>\n",
       "      <th>42</th>\n",
       "      <td>407-7181943-1725128</td>\n",
       "      <td>Mon, 4 Oct, 2021, 1:10 am IST</td>\n",
       "      <td>Rohan</td>\n",
       "      <td>GURUGRAM,</td>\n",
       "      <td>HARYANA</td>\n",
       "      <td>SKU:  DN-0WDX-VYOT</td>\n",
       "      <td>Women's Set of 5 Multicolor Pure Leather Singl...</td>\n",
       "      <td>1</td>\n",
       "      <td>₹449.00</td>\n",
       "      <td>₹84.96</td>\n",
       "      <td>NaN</td>\n",
       "      <td>Delivered to buyer</td>\n",
       "    </tr>\n",
       "    <tr>\n",
       "      <th>25</th>\n",
       "      <td>402-2054361-4513137</td>\n",
       "      <td>Mon, 6 Sept, 2021, 12:46 pm IST</td>\n",
       "      <td>Ramesh</td>\n",
       "      <td>JALESWAR,</td>\n",
       "      <td>ODISHA</td>\n",
       "      <td>SKU:  TQ-OE6K-9DIK</td>\n",
       "      <td>Ultra Slim 100% Pure Leather Men's Wallet with...</td>\n",
       "      <td>1</td>\n",
       "      <td>₹649.00</td>\n",
       "      <td>₹60.18</td>\n",
       "      <td>Cash On Delivery</td>\n",
       "      <td>Delivered to buyer</td>\n",
       "    </tr>\n",
       "    <tr>\n",
       "      <th>100</th>\n",
       "      <td>407-9473791-2643568</td>\n",
       "      <td>Fri, 25 Feb, 2022, 12:04 am IST</td>\n",
       "      <td>chandrima</td>\n",
       "      <td>KATWA,</td>\n",
       "      <td>WEST BENGAL</td>\n",
       "      <td>SKU:  P1-LF2X-L3ZC</td>\n",
       "      <td>Colourful and Bright Peacock Shaped Piggy Coin...</td>\n",
       "      <td>1</td>\n",
       "      <td>₹449.00</td>\n",
       "      <td>₹60.18</td>\n",
       "      <td>NaN</td>\n",
       "      <td>Delivered to buyer</td>\n",
       "    </tr>\n",
       "  </tbody>\n",
       "</table>\n",
       "</div>"
      ],
      "text/plain": [
       "                order_no                       order_date      buyer  \\\n",
       "12   402-5321389-8685152  Sat, 16 Oct, 2021, 10:11 am IST    Blessan   \n",
       "23   406-9975868-3000368  Wed, 20 Oct, 2021, 10:15 pm IST       Hema   \n",
       "42   407-7181943-1725128    Mon, 4 Oct, 2021, 1:10 am IST      Rohan   \n",
       "25   402-2054361-4513137  Mon, 6 Sept, 2021, 12:46 pm IST     Ramesh   \n",
       "100  407-9473791-2643568  Fri, 25 Feb, 2022, 12:04 am IST  chandrima   \n",
       "\n",
       "      ship_city   ship_state                 sku  \\\n",
       "12     COONOOR,   TAMIL NADU  SKU:  94-TSV3-EIW6   \n",
       "23   BENGALURU,    KARNATAKA  SKU:  AY-Z7BT-BMVM   \n",
       "42    GURUGRAM,      HARYANA  SKU:  DN-0WDX-VYOT   \n",
       "25    JALESWAR,       ODISHA  SKU:  TQ-OE6K-9DIK   \n",
       "100      KATWA,  WEST BENGAL  SKU:  P1-LF2X-L3ZC   \n",
       "\n",
       "                                           description  quantity item_total  \\\n",
       "12   Bright and Colorful Shantiniketan Leather Elep...         1    ₹449.00   \n",
       "23   Women's Pure Leather Jhallar Clutch Purse with...         1    ₹399.00   \n",
       "42   Women's Set of 5 Multicolor Pure Leather Singl...         1    ₹449.00   \n",
       "25   Ultra Slim 100% Pure Leather Men's Wallet with...         1    ₹649.00   \n",
       "100  Colourful and Bright Peacock Shaped Piggy Coin...         1    ₹449.00   \n",
       "\n",
       "    shipping_fee               cod        order_status  \n",
       "12        ₹84.96  Cash On Delivery  Delivered to buyer  \n",
       "23        ₹84.96               NaN  Delivered to buyer  \n",
       "42        ₹84.96               NaN  Delivered to buyer  \n",
       "25        ₹60.18  Cash On Delivery  Delivered to buyer  \n",
       "100       ₹60.18               NaN  Delivered to buyer  "
      ]
     },
     "execution_count": 5,
     "metadata": {},
     "output_type": "execute_result"
    }
   ],
   "source": [
    "df.sample(n=5, random_state= 2)"
   ]
  },
  {
   "cell_type": "markdown",
   "id": "6ca6a0cd",
   "metadata": {},
   "source": [
    "# 3. Tratamento dos dados"
   ]
  },
  {
   "cell_type": "code",
   "execution_count": 6,
   "id": "3bc3de6b",
   "metadata": {},
   "outputs": [],
   "source": [
    "def dataclean(df):\n",
    "    df = df.copy()\n",
    "    \n",
    "    # Tratamento da coluna de data e criação de caractericas de tempo\n",
    "    df['Year'] = pd.DatetimeIndex(df['order_date']).year\n",
    "    df['Month'] = pd.DatetimeIndex(df['order_date']).month\n",
    "    df['Date'] = pd.DatetimeIndex(df['order_date']).date\n",
    "    df['Time'] = pd.DatetimeIndex(df['order_date']).time\n",
    "    df['Month_Name'] = pd.DatetimeIndex(df['Date']).month_name()\n",
    "    df['Day_Name'] = pd.DatetimeIndex(df['order_date']).day_name()\n",
    "\n",
    "    df.drop(columns= 'order_date', inplace= True)\n",
    "    \n",
    "    # Tratando as colunas \"Ship_city\" e \"Ship_state\"\n",
    "    for label in ['ship_city', 'ship_state']: \n",
    "        df[label] = df[label].str.replace(',', '', regex= False)\n",
    "        df[label] = df[label].str.upper()\n",
    "        \n",
    "    # Tratando dados faltantes\n",
    "    df['item_total'].fillna('0', inplace= True)\n",
    "    df['shipping_fee'].fillna('0', inplace= True)\n",
    "    df['cod'].fillna('Online', inplace= True)\n",
    "    \n",
    "    # Removendo simbolos nas colunas \"item_total\", \"shipping_fee\" e convertendo valores\n",
    "    for label in ['item_total', 'shipping_fee']:\n",
    "        df[label] = df[label].str.replace('₹', '')\n",
    "        df[label] = df[label].str.replace(',', '')\n",
    "        df[label] = df[label].astype(np.float64)\n",
    "        \n",
    "    # Removendo o \"SKU:\" da coluana \"sku\"\n",
    "    df['sku'] = df['sku'].str.replace('SKU: ', '', regex= False)\n",
    "    \n",
    "    return df"
   ]
  },
  {
   "cell_type": "code",
   "execution_count": 7,
   "id": "b703154f",
   "metadata": {},
   "outputs": [],
   "source": [
    "df = dataclean(df)"
   ]
  },
  {
   "cell_type": "markdown",
   "id": "d3c49255",
   "metadata": {},
   "source": [
    "# 4. Entendimento dos dados após tratamentos"
   ]
  },
  {
   "cell_type": "code",
   "execution_count": 8,
   "id": "eec48d4c",
   "metadata": {},
   "outputs": [
    {
     "data": {
      "text/html": [
       "<div>\n",
       "<style scoped>\n",
       "    .dataframe tbody tr th:only-of-type {\n",
       "        vertical-align: middle;\n",
       "    }\n",
       "\n",
       "    .dataframe tbody tr th {\n",
       "        vertical-align: top;\n",
       "    }\n",
       "\n",
       "    .dataframe thead th {\n",
       "        text-align: right;\n",
       "    }\n",
       "</style>\n",
       "<table border=\"1\" class=\"dataframe\">\n",
       "  <thead>\n",
       "    <tr style=\"text-align: right;\">\n",
       "      <th></th>\n",
       "      <th>order_no</th>\n",
       "      <th>buyer</th>\n",
       "      <th>ship_city</th>\n",
       "      <th>ship_state</th>\n",
       "      <th>sku</th>\n",
       "      <th>description</th>\n",
       "      <th>quantity</th>\n",
       "      <th>item_total</th>\n",
       "      <th>shipping_fee</th>\n",
       "      <th>cod</th>\n",
       "      <th>order_status</th>\n",
       "      <th>Year</th>\n",
       "      <th>Month</th>\n",
       "      <th>Date</th>\n",
       "      <th>Time</th>\n",
       "      <th>Month_Name</th>\n",
       "      <th>Day_Name</th>\n",
       "    </tr>\n",
       "  </thead>\n",
       "  <tbody>\n",
       "    <tr>\n",
       "      <th>0</th>\n",
       "      <td>405-9763961-5211537</td>\n",
       "      <td>Mr.</td>\n",
       "      <td>CHANDIGARH</td>\n",
       "      <td>CHANDIGARH</td>\n",
       "      <td>2X-3C0F-KNJE</td>\n",
       "      <td>100% Leather Elephant Shaped Piggy Coin Bank |...</td>\n",
       "      <td>1</td>\n",
       "      <td>449.0</td>\n",
       "      <td>0.00</td>\n",
       "      <td>Online</td>\n",
       "      <td>Delivered to buyer</td>\n",
       "      <td>2021</td>\n",
       "      <td>7</td>\n",
       "      <td>2021-07-18</td>\n",
       "      <td>22:38:00</td>\n",
       "      <td>July</td>\n",
       "      <td>Sunday</td>\n",
       "    </tr>\n",
       "    <tr>\n",
       "      <th>1</th>\n",
       "      <td>404-3964908-7850720</td>\n",
       "      <td>Minam</td>\n",
       "      <td>PASIGHAT</td>\n",
       "      <td>ARUNACHAL PRADESH</td>\n",
       "      <td>DN-0WDX-VYOT</td>\n",
       "      <td>Women's Set of 5 Multicolor Pure Leather Singl...</td>\n",
       "      <td>1</td>\n",
       "      <td>449.0</td>\n",
       "      <td>60.18</td>\n",
       "      <td>Online</td>\n",
       "      <td>Delivered to buyer</td>\n",
       "      <td>2021</td>\n",
       "      <td>10</td>\n",
       "      <td>2021-10-19</td>\n",
       "      <td>18:05:00</td>\n",
       "      <td>October</td>\n",
       "      <td>Tuesday</td>\n",
       "    </tr>\n",
       "    <tr>\n",
       "      <th>2</th>\n",
       "      <td>171-8103182-4289117</td>\n",
       "      <td>yatipertin</td>\n",
       "      <td>PASIGHAT</td>\n",
       "      <td>ARUNACHAL PRADESH</td>\n",
       "      <td>DN-0WDX-VYOT</td>\n",
       "      <td>Women's Set of 5 Multicolor Pure Leather Singl...</td>\n",
       "      <td>1</td>\n",
       "      <td>449.0</td>\n",
       "      <td>60.18</td>\n",
       "      <td>Online</td>\n",
       "      <td>Delivered to buyer</td>\n",
       "      <td>2021</td>\n",
       "      <td>11</td>\n",
       "      <td>2021-11-28</td>\n",
       "      <td>22:20:00</td>\n",
       "      <td>November</td>\n",
       "      <td>Sunday</td>\n",
       "    </tr>\n",
       "    <tr>\n",
       "      <th>3</th>\n",
       "      <td>405-3171677-9557154</td>\n",
       "      <td>aciya</td>\n",
       "      <td>DEVARAKONDA</td>\n",
       "      <td>TELANGANA</td>\n",
       "      <td>AH-J3AO-R7DN</td>\n",
       "      <td>Pure 100% Leather Block Print Rectangular Jewe...</td>\n",
       "      <td>1</td>\n",
       "      <td>0.0</td>\n",
       "      <td>0.00</td>\n",
       "      <td>Cash On Delivery</td>\n",
       "      <td>Delivered to buyer</td>\n",
       "      <td>2021</td>\n",
       "      <td>7</td>\n",
       "      <td>2021-07-28</td>\n",
       "      <td>04:06:00</td>\n",
       "      <td>July</td>\n",
       "      <td>Wednesday</td>\n",
       "    </tr>\n",
       "    <tr>\n",
       "      <th>4</th>\n",
       "      <td>402-8910771-1215552</td>\n",
       "      <td>Susmita</td>\n",
       "      <td>MUMBAI</td>\n",
       "      <td>MAHARASHTRA</td>\n",
       "      <td>KL-7WAA-Z82I</td>\n",
       "      <td>Pure Leather Sling Bag with Multiple Pockets a...</td>\n",
       "      <td>1</td>\n",
       "      <td>1099.0</td>\n",
       "      <td>84.96</td>\n",
       "      <td>Online</td>\n",
       "      <td>Delivered to buyer</td>\n",
       "      <td>2021</td>\n",
       "      <td>9</td>\n",
       "      <td>2021-09-28</td>\n",
       "      <td>14:50:00</td>\n",
       "      <td>September</td>\n",
       "      <td>Tuesday</td>\n",
       "    </tr>\n",
       "  </tbody>\n",
       "</table>\n",
       "</div>"
      ],
      "text/plain": [
       "              order_no       buyer    ship_city         ship_state  \\\n",
       "0  405-9763961-5211537         Mr.   CHANDIGARH         CHANDIGARH   \n",
       "1  404-3964908-7850720       Minam     PASIGHAT  ARUNACHAL PRADESH   \n",
       "2  171-8103182-4289117  yatipertin     PASIGHAT  ARUNACHAL PRADESH   \n",
       "3  405-3171677-9557154       aciya  DEVARAKONDA          TELANGANA   \n",
       "4  402-8910771-1215552     Susmita       MUMBAI        MAHARASHTRA   \n",
       "\n",
       "             sku                                        description  quantity  \\\n",
       "0   2X-3C0F-KNJE  100% Leather Elephant Shaped Piggy Coin Bank |...         1   \n",
       "1   DN-0WDX-VYOT  Women's Set of 5 Multicolor Pure Leather Singl...         1   \n",
       "2   DN-0WDX-VYOT  Women's Set of 5 Multicolor Pure Leather Singl...         1   \n",
       "3   AH-J3AO-R7DN  Pure 100% Leather Block Print Rectangular Jewe...         1   \n",
       "4   KL-7WAA-Z82I  Pure Leather Sling Bag with Multiple Pockets a...         1   \n",
       "\n",
       "   item_total  shipping_fee               cod        order_status  Year  \\\n",
       "0       449.0          0.00            Online  Delivered to buyer  2021   \n",
       "1       449.0         60.18            Online  Delivered to buyer  2021   \n",
       "2       449.0         60.18            Online  Delivered to buyer  2021   \n",
       "3         0.0          0.00  Cash On Delivery  Delivered to buyer  2021   \n",
       "4      1099.0         84.96            Online  Delivered to buyer  2021   \n",
       "\n",
       "   Month        Date      Time Month_Name   Day_Name  \n",
       "0      7  2021-07-18  22:38:00       July     Sunday  \n",
       "1     10  2021-10-19  18:05:00    October    Tuesday  \n",
       "2     11  2021-11-28  22:20:00   November     Sunday  \n",
       "3      7  2021-07-28  04:06:00       July  Wednesday  \n",
       "4      9  2021-09-28  14:50:00  September    Tuesday  "
      ]
     },
     "execution_count": 8,
     "metadata": {},
     "output_type": "execute_result"
    }
   ],
   "source": [
    "df.head()"
   ]
  },
  {
   "cell_type": "code",
   "execution_count": 9,
   "id": "ca7753d1",
   "metadata": {},
   "outputs": [
    {
     "name": "stdout",
     "output_type": "stream",
     "text": [
      "<class 'pandas.core.frame.DataFrame'>\n",
      "RangeIndex: 171 entries, 0 to 170\n",
      "Data columns (total 17 columns):\n",
      " #   Column        Non-Null Count  Dtype  \n",
      "---  ------        --------------  -----  \n",
      " 0   order_no      171 non-null    object \n",
      " 1   buyer         171 non-null    object \n",
      " 2   ship_city     171 non-null    object \n",
      " 3   ship_state    171 non-null    object \n",
      " 4   sku           171 non-null    object \n",
      " 5   description   171 non-null    object \n",
      " 6   quantity      171 non-null    int64  \n",
      " 7   item_total    171 non-null    float64\n",
      " 8   shipping_fee  171 non-null    float64\n",
      " 9   cod           171 non-null    object \n",
      " 10  order_status  171 non-null    object \n",
      " 11  Year          171 non-null    int64  \n",
      " 12  Month         171 non-null    int64  \n",
      " 13  Date          171 non-null    object \n",
      " 14  Time          171 non-null    object \n",
      " 15  Month_Name    171 non-null    object \n",
      " 16  Day_Name      171 non-null    object \n",
      "dtypes: float64(2), int64(3), object(12)\n",
      "memory usage: 22.8+ KB\n"
     ]
    }
   ],
   "source": [
    "df.info()"
   ]
  },
  {
   "cell_type": "code",
   "execution_count": 10,
   "id": "479f6ccf",
   "metadata": {},
   "outputs": [
    {
     "data": {
      "text/plain": [
       "order_no        0\n",
       "buyer           0\n",
       "ship_city       0\n",
       "ship_state      0\n",
       "sku             0\n",
       "description     0\n",
       "quantity        0\n",
       "item_total      0\n",
       "shipping_fee    0\n",
       "cod             0\n",
       "order_status    0\n",
       "Year            0\n",
       "Month           0\n",
       "Date            0\n",
       "Time            0\n",
       "Month_Name      0\n",
       "Day_Name        0\n",
       "dtype: int64"
      ]
     },
     "execution_count": 10,
     "metadata": {},
     "output_type": "execute_result"
    }
   ],
   "source": [
    "df.isnull().sum()"
   ]
  },
  {
   "cell_type": "code",
   "execution_count": 11,
   "id": "4ed8c543",
   "metadata": {},
   "outputs": [
    {
     "data": {
      "text/html": [
       "<div>\n",
       "<style scoped>\n",
       "    .dataframe tbody tr th:only-of-type {\n",
       "        vertical-align: middle;\n",
       "    }\n",
       "\n",
       "    .dataframe tbody tr th {\n",
       "        vertical-align: top;\n",
       "    }\n",
       "\n",
       "    .dataframe thead th {\n",
       "        text-align: right;\n",
       "    }\n",
       "</style>\n",
       "<table border=\"1\" class=\"dataframe\">\n",
       "  <thead>\n",
       "    <tr style=\"text-align: right;\">\n",
       "      <th></th>\n",
       "      <th>quantity</th>\n",
       "      <th>item_total</th>\n",
       "      <th>shipping_fee</th>\n",
       "      <th>Year</th>\n",
       "      <th>Month</th>\n",
       "    </tr>\n",
       "  </thead>\n",
       "  <tbody>\n",
       "    <tr>\n",
       "      <th>count</th>\n",
       "      <td>171.000000</td>\n",
       "      <td>171.000000</td>\n",
       "      <td>171.000000</td>\n",
       "      <td>171.000000</td>\n",
       "      <td>171.000000</td>\n",
       "    </tr>\n",
       "    <tr>\n",
       "      <th>mean</th>\n",
       "      <td>1.087719</td>\n",
       "      <td>521.502924</td>\n",
       "      <td>71.862690</td>\n",
       "      <td>2021.187135</td>\n",
       "      <td>8.426901</td>\n",
       "    </tr>\n",
       "    <tr>\n",
       "      <th>std</th>\n",
       "      <td>0.445132</td>\n",
       "      <td>495.177002</td>\n",
       "      <td>39.103857</td>\n",
       "      <td>0.391165</td>\n",
       "      <td>3.746242</td>\n",
       "    </tr>\n",
       "    <tr>\n",
       "      <th>min</th>\n",
       "      <td>1.000000</td>\n",
       "      <td>0.000000</td>\n",
       "      <td>0.000000</td>\n",
       "      <td>2021.000000</td>\n",
       "      <td>1.000000</td>\n",
       "    </tr>\n",
       "    <tr>\n",
       "      <th>25%</th>\n",
       "      <td>1.000000</td>\n",
       "      <td>399.000000</td>\n",
       "      <td>60.180000</td>\n",
       "      <td>2021.000000</td>\n",
       "      <td>7.000000</td>\n",
       "    </tr>\n",
       "    <tr>\n",
       "      <th>50%</th>\n",
       "      <td>1.000000</td>\n",
       "      <td>449.000000</td>\n",
       "      <td>84.960000</td>\n",
       "      <td>2021.000000</td>\n",
       "      <td>10.000000</td>\n",
       "    </tr>\n",
       "    <tr>\n",
       "      <th>75%</th>\n",
       "      <td>1.000000</td>\n",
       "      <td>475.000000</td>\n",
       "      <td>84.960000</td>\n",
       "      <td>2021.000000</td>\n",
       "      <td>11.000000</td>\n",
       "    </tr>\n",
       "    <tr>\n",
       "      <th>max</th>\n",
       "      <td>4.000000</td>\n",
       "      <td>3897.000000</td>\n",
       "      <td>241.900000</td>\n",
       "      <td>2022.000000</td>\n",
       "      <td>12.000000</td>\n",
       "    </tr>\n",
       "  </tbody>\n",
       "</table>\n",
       "</div>"
      ],
      "text/plain": [
       "         quantity   item_total  shipping_fee         Year       Month\n",
       "count  171.000000   171.000000    171.000000   171.000000  171.000000\n",
       "mean     1.087719   521.502924     71.862690  2021.187135    8.426901\n",
       "std      0.445132   495.177002     39.103857     0.391165    3.746242\n",
       "min      1.000000     0.000000      0.000000  2021.000000    1.000000\n",
       "25%      1.000000   399.000000     60.180000  2021.000000    7.000000\n",
       "50%      1.000000   449.000000     84.960000  2021.000000   10.000000\n",
       "75%      1.000000   475.000000     84.960000  2021.000000   11.000000\n",
       "max      4.000000  3897.000000    241.900000  2022.000000   12.000000"
      ]
     },
     "execution_count": 11,
     "metadata": {},
     "output_type": "execute_result"
    }
   ],
   "source": [
    "df.describe()"
   ]
  },
  {
   "cell_type": "code",
   "execution_count": 12,
   "id": "03496028",
   "metadata": {},
   "outputs": [
    {
     "data": {
      "text/html": [
       "<div>\n",
       "<style scoped>\n",
       "    .dataframe tbody tr th:only-of-type {\n",
       "        vertical-align: middle;\n",
       "    }\n",
       "\n",
       "    .dataframe tbody tr th {\n",
       "        vertical-align: top;\n",
       "    }\n",
       "\n",
       "    .dataframe thead th {\n",
       "        text-align: right;\n",
       "    }\n",
       "</style>\n",
       "<table border=\"1\" class=\"dataframe\">\n",
       "  <thead>\n",
       "    <tr style=\"text-align: right;\">\n",
       "      <th></th>\n",
       "      <th>order_no</th>\n",
       "      <th>buyer</th>\n",
       "      <th>ship_city</th>\n",
       "      <th>ship_state</th>\n",
       "      <th>sku</th>\n",
       "      <th>description</th>\n",
       "      <th>cod</th>\n",
       "      <th>order_status</th>\n",
       "      <th>Date</th>\n",
       "      <th>Time</th>\n",
       "      <th>Month_Name</th>\n",
       "      <th>Day_Name</th>\n",
       "    </tr>\n",
       "  </thead>\n",
       "  <tbody>\n",
       "    <tr>\n",
       "      <th>count</th>\n",
       "      <td>171</td>\n",
       "      <td>171</td>\n",
       "      <td>171</td>\n",
       "      <td>171</td>\n",
       "      <td>171</td>\n",
       "      <td>171</td>\n",
       "      <td>171</td>\n",
       "      <td>171</td>\n",
       "      <td>171</td>\n",
       "      <td>171</td>\n",
       "      <td>171</td>\n",
       "      <td>171</td>\n",
       "    </tr>\n",
       "    <tr>\n",
       "      <th>unique</th>\n",
       "      <td>171</td>\n",
       "      <td>149</td>\n",
       "      <td>74</td>\n",
       "      <td>26</td>\n",
       "      <td>54</td>\n",
       "      <td>61</td>\n",
       "      <td>2</td>\n",
       "      <td>2</td>\n",
       "      <td>117</td>\n",
       "      <td>154</td>\n",
       "      <td>9</td>\n",
       "      <td>7</td>\n",
       "    </tr>\n",
       "    <tr>\n",
       "      <th>top</th>\n",
       "      <td>405-9763961-5211537</td>\n",
       "      <td>Geetika</td>\n",
       "      <td>MUMBAI</td>\n",
       "      <td>MAHARASHTRA</td>\n",
       "      <td>DN-0WDX-VYOT</td>\n",
       "      <td>Women's Set of 5 Multicolor Pure Leather Singl...</td>\n",
       "      <td>Online</td>\n",
       "      <td>Delivered to buyer</td>\n",
       "      <td>2021-12-04</td>\n",
       "      <td>20:53:00</td>\n",
       "      <td>December</td>\n",
       "      <td>Sunday</td>\n",
       "    </tr>\n",
       "    <tr>\n",
       "      <th>freq</th>\n",
       "      <td>1</td>\n",
       "      <td>3</td>\n",
       "      <td>20</td>\n",
       "      <td>32</td>\n",
       "      <td>33</td>\n",
       "      <td>33</td>\n",
       "      <td>124</td>\n",
       "      <td>160</td>\n",
       "      <td>4</td>\n",
       "      <td>2</td>\n",
       "      <td>37</td>\n",
       "      <td>30</td>\n",
       "    </tr>\n",
       "  </tbody>\n",
       "</table>\n",
       "</div>"
      ],
      "text/plain": [
       "                   order_no    buyer ship_city   ship_state            sku  \\\n",
       "count                   171      171       171          171            171   \n",
       "unique                  171      149        74           26             54   \n",
       "top     405-9763961-5211537  Geetika    MUMBAI  MAHARASHTRA   DN-0WDX-VYOT   \n",
       "freq                      1        3        20           32             33   \n",
       "\n",
       "                                              description     cod  \\\n",
       "count                                                 171     171   \n",
       "unique                                                 61       2   \n",
       "top     Women's Set of 5 Multicolor Pure Leather Singl...  Online   \n",
       "freq                                                   33     124   \n",
       "\n",
       "              order_status        Date      Time Month_Name Day_Name  \n",
       "count                  171         171       171        171      171  \n",
       "unique                   2         117       154          9        7  \n",
       "top     Delivered to buyer  2021-12-04  20:53:00   December   Sunday  \n",
       "freq                   160           4         2         37       30  "
      ]
     },
     "execution_count": 12,
     "metadata": {},
     "output_type": "execute_result"
    }
   ],
   "source": [
    "df.describe(include= 'object')"
   ]
  },
  {
   "cell_type": "markdown",
   "id": "78e7861b",
   "metadata": {},
   "source": [
    "# 5. Visualizar insights do negócios"
   ]
  },
  {
   "cell_type": "markdown",
   "id": "707382de",
   "metadata": {},
   "source": [
    "### Lucro por ano"
   ]
  },
  {
   "cell_type": "code",
   "execution_count": 13,
   "id": "ad09515c",
   "metadata": {},
   "outputs": [
    {
     "data": {
      "image/png": "[encoded data removed]",
      "text/plain": [
       "<Figure size 1080x360 with 1 Axes>"
      ]
     },
     "metadata": {
      "needs_background": "light"
     },
     "output_type": "display_data"
    }
   ],
   "source": [
    "fig = df[['Year', 'cod', 'item_total', 'shipping_fee']].groupby(['Year', 'cod']).sum()\n",
    "fig['Proft'] = fig['item_total'] - fig['shipping_fee']\n",
    "fig.reset_index(inplace= True)\n",
    "\n",
    "plt.figure(figsize=(15,5))\n",
    "figure = sns.barplot(y= fig['Proft'], x=fig['Year'], hue=fig['cod'])"
   ]
  },
  {
   "cell_type": "markdown",
   "id": "54b6e5cd",
   "metadata": {},
   "source": [
    "### Lucro por todo o periodo"
   ]
  },
  {
   "cell_type": "code",
   "execution_count": 14,
   "id": "00de4f29",
   "metadata": {},
   "outputs": [
    {
     "data": {
      "image/png": "[encoded data removed]",
      "text/plain": [
       "<Figure size 1080x360 with 1 Axes>"
      ]
     },
     "metadata": {
      "needs_background": "light"
     },
     "output_type": "display_data"
    }
   ],
   "source": [
    "fig = df[['Date', 'cod', 'item_total', 'shipping_fee']].groupby(['Date', 'cod']).sum()\n",
    "fig['Proft'] = fig['item_total'] - fig['shipping_fee']\n",
    "fig.reset_index(inplace= True)\n",
    "\n",
    "plt.figure(figsize=(15,5))\n",
    "figure = sns.lineplot(y= fig['Proft'], x=fig['Date'])"
   ]
  },
  {
   "cell_type": "markdown",
   "id": "b5503e87",
   "metadata": {},
   "source": [
    "### Lucro por mês"
   ]
  },
  {
   "cell_type": "code",
   "execution_count": 15,
   "id": "13640b6e",
   "metadata": {},
   "outputs": [
    {
     "data": {
      "image/png": "[encoded data removed]",
      "text/plain": [
       "<Figure size 1080x360 with 1 Axes>"
      ]
     },
     "metadata": {
      "needs_background": "light"
     },
     "output_type": "display_data"
    }
   ],
   "source": [
    "fig = df[['Month_Name', 'cod', 'order_status', 'item_total', 'shipping_fee']].groupby(['Month_Name', 'cod', 'order_status']).sum()\n",
    "fig['Proft'] = fig['item_total'] - fig['shipping_fee']\n",
    "fig.reset_index(inplace= True)\n",
    "\n",
    "plt.figure(figsize=(15,5))\n",
    "order = ['June', 'July', 'August', 'September', 'October', 'November', 'December', 'January', 'February']\n",
    "figure = sns.barplot(data= fig, y= 'Proft', x='Month_Name', order= order, hue= 'cod')"
   ]
  },
  {
   "cell_type": "markdown",
   "id": "80fb9332",
   "metadata": {},
   "source": [
    "### Analise dos Meses Dezembro e Janeiro"
   ]
  },
  {
   "cell_type": "code",
   "execution_count": 16,
   "id": "3afc16c0",
   "metadata": {},
   "outputs": [
    {
     "data": {
      "image/png": "[encoded data removed]",
      "text/plain": [
       "<Figure size 1080x360 with 1 Axes>"
      ]
     },
     "metadata": {
      "needs_background": "light"
     },
     "output_type": "display_data"
    }
   ],
   "source": [
    "fig = df.query('Month_Name in [\"December\", \"January\"]').copy()\n",
    "fig = fig[['Month_Name', 'cod', 'order_status', 'item_total', 'shipping_fee']].groupby(['Month_Name', 'cod', 'order_status']).sum()\n",
    "fig['Proft'] = fig['item_total'] - fig['shipping_fee']\n",
    "fig.reset_index(inplace= True)\n",
    "\n",
    "plt.figure(figsize=(15,5))\n",
    "order = ['December', 'January']\n",
    "figure = sns.barplot(data= fig, y= 'Proft', x='Month_Name', order= order, hue= 'cod', estimator= np.sum)"
   ]
  },
  {
   "cell_type": "markdown",
   "id": "ef6a3512",
   "metadata": {},
   "source": [
    "### Analisando somente o mês de Dezembro"
   ]
  },
  {
   "cell_type": "code",
   "execution_count": 17,
   "id": "6cd1c2e2",
   "metadata": {},
   "outputs": [
    {
     "data": {
      "image/png": "[encoded data removed]",
      "text/plain": [
       "<Figure size 1080x360 with 1 Axes>"
      ]
     },
     "metadata": {
      "needs_background": "light"
     },
     "output_type": "display_data"
    }
   ],
   "source": [
    "fig = df.query('Month_Name == \"December\"')\n",
    "fig = fig[['Day_Name', 'cod', 'order_status', 'item_total', 'shipping_fee']].groupby(['Day_Name', 'cod', 'order_status']).sum()\n",
    "fig['Proft'] = fig['item_total'] - fig['shipping_fee']\n",
    "fig.reset_index(inplace= True)\n",
    "\n",
    "plt.figure(figsize=(15,5))\n",
    "order = ['Monday', 'Sunday', 'Tuesday', 'Wednesday', 'Thursday', 'Friday', 'Saturday']\n",
    "figure = sns.barplot(data= fig, y= 'Proft', x='Day_Name', order= order, hue= 'cod')"
   ]
  },
  {
   "cell_type": "code",
   "execution_count": 18,
   "id": "758d02d5",
   "metadata": {},
   "outputs": [
    {
     "data": {
      "image/png": "[encoded data removed]",
      "text/plain": [
       "<Figure size 1080x360 with 1 Axes>"
      ]
     },
     "metadata": {
      "needs_background": "light"
     },
     "output_type": "display_data"
    }
   ],
   "source": [
    "fig = df.query('Month_Name == \"December\" & Day_Name == \"Tuesday\"')\n",
    "fig = fig[['Date', 'item_total', 'shipping_fee']].groupby(['Date']).sum()\n",
    "fig['Proft'] = fig['item_total'] - fig['shipping_fee']\n",
    "fig.reset_index(inplace= True)\n",
    "\n",
    "plt.figure(figsize=(15,5))\n",
    "figure = sns.barplot(data= fig, y= 'Proft', x='Date')"
   ]
  },
  {
   "cell_type": "markdown",
   "id": "37cc486d",
   "metadata": {},
   "source": [
    "### Comparando custos de Devoluções nos meses de Dezembro e Janeiro"
   ]
  },
  {
   "cell_type": "code",
   "execution_count": 19,
   "id": "2e9b90fd",
   "metadata": {},
   "outputs": [
    {
     "data": {
      "image/png": "[encoded data removed]",
      "text/plain": [
       "<Figure size 1080x360 with 1 Axes>"
      ]
     },
     "metadata": {
      "needs_background": "light"
     },
     "output_type": "display_data"
    }
   ],
   "source": [
    "fig = df.query('Month_Name in [\"December\", \"January\"]').copy()\n",
    "fig = fig[['Month_Name', 'order_status', 'shipping_fee']].groupby(['Month_Name', 'order_status']).sum()\n",
    "fig.reset_index(inplace= True)\n",
    "fig.query('order_status == \"Returned to seller\"', inplace= True)\n",
    "\n",
    "plt.figure(figsize=(15,5))\n",
    "order = ['December', 'January']\n",
    "figure = sns.barplot(data= fig, y= 'shipping_fee', x='Month_Name', order= order)"
   ]
  },
  {
   "cell_type": "markdown",
   "id": "ab0eed33",
   "metadata": {},
   "source": [
    "### Analisando os lucros por dia da semana"
   ]
  },
  {
   "cell_type": "code",
   "execution_count": 20,
   "id": "acc6c264",
   "metadata": {},
   "outputs": [
    {
     "data": {
      "image/png": "[encoded data removed]",
      "text/plain": [
       "<Figure size 1080x360 with 1 Axes>"
      ]
     },
     "metadata": {
      "needs_background": "light"
     },
     "output_type": "display_data"
    }
   ],
   "source": [
    "fig = df[['Day_Name', 'cod', 'order_status', 'item_total', 'shipping_fee']].groupby(['Day_Name', 'cod', 'order_status']).sum()\n",
    "fig['Proft'] = fig['item_total'] - fig['shipping_fee']\n",
    "fig.reset_index(inplace= True)\n",
    "\n",
    "plt.figure(figsize=(15,5))\n",
    "order = ['Monday', 'Sunday', 'Tuesday', 'Wednesday', 'Thursday', 'Friday', 'Saturday']\n",
    "figure = sns.barplot(data= fig, y= 'Proft', x='Day_Name', order= order, hue= 'cod')"
   ]
  },
  {
   "cell_type": "markdown",
   "id": "37809379",
   "metadata": {},
   "source": [
    "### Lucro por Estado"
   ]
  },
  {
   "cell_type": "code",
   "execution_count": 21,
   "id": "6b45ed43",
   "metadata": {},
   "outputs": [
    {
     "data": {
      "text/plain": [
       "array([ 0,  1,  2,  3,  4,  5,  6,  7,  8,  9, 10, 11, 12, 13, 14, 15, 16,\n",
       "       17, 18, 19, 20, 21, 22, 23, 24, 25])"
      ]
     },
     "execution_count": 21,
     "metadata": {},
     "output_type": "execute_result"
    },
    {
     "data": {
      "image/png": "[encoded data removed]",
      "text/plain": [
       "<Figure size 1080x360 with 1 Axes>"
      ]
     },
     "metadata": {
      "needs_background": "light"
     },
     "output_type": "display_data"
    }
   ],
   "source": [
    "fig = df[['ship_state', 'cod', 'order_status', 'item_total', 'shipping_fee']].groupby(['ship_state', 'cod', 'order_status']).sum()\n",
    "fig['Proft'] = fig['item_total'] - fig['shipping_fee']\n",
    "fig.sort_values(by= 'Proft', ascending= False, inplace= True)\n",
    "fig.reset_index(inplace= True)\n",
    "\n",
    "plt.figure(figsize=(15,5))\n",
    "figure = sns.barplot(data= fig, y= 'Proft', x='ship_state', color = \"#377BA6\", estimator= np.sum)\n",
    "plt.xticks(rotation= 90)[0]"
   ]
  },
  {
   "cell_type": "markdown",
   "id": "2564b7c8",
   "metadata": {},
   "source": [
    "### Analise de cidades dos TOP 3 estados"
   ]
  },
  {
   "cell_type": "code",
   "execution_count": 22,
   "id": "842d9ad3",
   "metadata": {},
   "outputs": [
    {
     "data": {
      "text/plain": [
       "array([ 0,  1,  2,  3,  4,  5,  6,  7,  8,  9, 10, 11, 12, 13, 14, 15, 16,\n",
       "       17, 18, 19, 20, 21, 22])"
      ]
     },
     "execution_count": 22,
     "metadata": {},
     "output_type": "execute_result"
    },
    {
     "data": {
      "image/png": "[encoded data removed]",
      "text/plain": [
       "<Figure size 1080x360 with 1 Axes>"
      ]
     },
     "metadata": {
      "needs_background": "light"
     },
     "output_type": "display_data"
    }
   ],
   "source": [
    "fig = df.query('ship_state in [\"MAHARASHTRA\", \"WEST BENGAL\", \"TAMIL NADU\"]')\n",
    "fig = fig[['ship_city', 'cod', 'order_status', 'item_total', 'shipping_fee']].groupby(['ship_city', 'cod', 'order_status']).sum()\n",
    "fig['Proft'] = fig['item_total'] - fig['shipping_fee']\n",
    "fig.sort_values(by= 'Proft', ascending= False, inplace= True)\n",
    "fig.reset_index(inplace= True)\n",
    "\n",
    "plt.figure(figsize=(15,5))\n",
    "figure = sns.barplot(data= fig, y= 'Proft', x='ship_city', color= '#377BA6', estimator= np.sum)\n",
    "plt.xticks(rotation= 90)[0]"
   ]
  },
  {
   "cell_type": "markdown",
   "id": "781c6c3f",
   "metadata": {},
   "source": [
    "### Analise das Cidades do estado \"MAHARASHTRA\""
   ]
  },
  {
   "cell_type": "code",
   "execution_count": 23,
   "id": "d9544047",
   "metadata": {},
   "outputs": [
    {
     "data": {
      "text/plain": [
       "array([0, 1, 2, 3, 4, 5, 6, 7, 8])"
      ]
     },
     "execution_count": 23,
     "metadata": {},
     "output_type": "execute_result"
    },
    {
     "data": {
      "image/png": "[encoded data removed]",
      "text/plain": [
       "<Figure size 1080x360 with 1 Axes>"
      ]
     },
     "metadata": {
      "needs_background": "light"
     },
     "output_type": "display_data"
    }
   ],
   "source": [
    "fig = df.query('ship_state  == \"MAHARASHTRA\"')\n",
    "fig = fig[['ship_city', 'cod', 'order_status', 'item_total', 'shipping_fee']].groupby(['ship_city', 'cod', 'order_status']).sum()\n",
    "fig['Proft'] = fig['item_total'] - fig['shipping_fee']\n",
    "fig.sort_values(by= 'Proft', ascending= False, inplace= True)\n",
    "fig.reset_index(inplace= True)\n",
    "\n",
    "plt.figure(figsize=(15,5))\n",
    "figure = sns.barplot(data= fig, y= 'Proft', x='ship_city', color= '#377BA6', estimator= np.sum)\n",
    "plt.xticks(rotation= 90)[0]"
   ]
  },
  {
   "cell_type": "markdown",
   "id": "8031b253",
   "metadata": {},
   "source": [
    "### Analise das Cidades do estado \"WEST BENGAL\""
   ]
  },
  {
   "cell_type": "code",
   "execution_count": 24,
   "id": "2032c2a3",
   "metadata": {},
   "outputs": [
    {
     "data": {
      "text/plain": [
       "array([0, 1, 2, 3, 4, 5])"
      ]
     },
     "execution_count": 24,
     "metadata": {},
     "output_type": "execute_result"
    },
    {
     "data": {
      "image/png": "[encoded data removed]",
      "text/plain": [
       "<Figure size 1080x360 with 1 Axes>"
      ]
     },
     "metadata": {
      "needs_background": "light"
     },
     "output_type": "display_data"
    }
   ],
   "source": [
    "fig = df.query('ship_state  == \"WEST BENGAL\"')\n",
    "fig = fig[['ship_city', 'cod', 'order_status', 'item_total', 'shipping_fee']].groupby(['ship_city', 'cod', 'order_status']).sum()\n",
    "fig['Proft'] = fig['item_total'] - fig['shipping_fee']\n",
    "fig.sort_values(by= 'Proft', ascending= False, inplace= True)\n",
    "fig.reset_index(inplace= True)\n",
    "\n",
    "plt.figure(figsize=(15,5))\n",
    "figure = sns.barplot(data= fig, y= 'Proft', x='ship_city', color= '#377BA6', estimator= np.sum)\n",
    "plt.xticks(rotation= 90)[0]"
   ]
  },
  {
   "cell_type": "markdown",
   "id": "57e4555b",
   "metadata": {},
   "source": [
    "### Analise das Cidades do estado \"TAMIL NADU\""
   ]
  },
  {
   "cell_type": "code",
   "execution_count": 25,
   "id": "494483b6",
   "metadata": {},
   "outputs": [
    {
     "data": {
      "text/plain": [
       "array([0, 1, 2, 3, 4, 5, 6, 7])"
      ]
     },
     "execution_count": 25,
     "metadata": {},
     "output_type": "execute_result"
    },
    {
     "data": {
      "image/png": "[encoded data removed]",
      "text/plain": [
       "<Figure size 1080x360 with 1 Axes>"
      ]
     },
     "metadata": {
      "needs_background": "light"
     },
     "output_type": "display_data"
    }
   ],
   "source": [
    "fig = df.query('ship_state  == \"TAMIL NADU\"')\n",
    "fig = fig[['ship_city', 'cod', 'order_status', 'item_total', 'shipping_fee']].groupby(['ship_city', 'cod', 'order_status']).sum()\n",
    "fig['Proft'] = fig['item_total'] - fig['shipping_fee']\n",
    "fig.sort_values(by= 'Proft', ascending= False, inplace= True)\n",
    "fig.reset_index(inplace= True)\n",
    "\n",
    "plt.figure(figsize=(15,5))\n",
    "figure = sns.barplot(data= fig, y= 'Proft', x='ship_city', color= '#377BA6', estimator= np.sum)\n",
    "plt.xticks(rotation= 90)[0]"
   ]
  },
  {
   "cell_type": "markdown",
   "id": "b8a6b48c",
   "metadata": {},
   "source": [
    "### Top 5 Produtos"
   ]
  },
  {
   "cell_type": "code",
   "execution_count": 26,
   "id": "adcc9816",
   "metadata": {},
   "outputs": [
    {
     "data": {
      "text/plain": [
       "array([0, 1, 2, 3, 4])"
      ]
     },
     "execution_count": 26,
     "metadata": {},
     "output_type": "execute_result"
    },
    {
     "data": {
      "image/png": "[encoded data removed]",
      "text/plain": [
       "<Figure size 1080x360 with 1 Axes>"
      ]
     },
     "metadata": {
      "needs_background": "light"
     },
     "output_type": "display_data"
    }
   ],
   "source": [
    "fig = df[['sku', 'cod', 'order_status', 'item_total', 'shipping_fee']].groupby(['sku', 'cod', 'order_status']).sum()\n",
    "fig['proft'] = fig['item_total'] - fig['shipping_fee']\n",
    "fig.sort_values(by= 'proft', ascending= False, inplace= True)\n",
    "fig.reset_index(inplace= True)\n",
    "fig = fig.iloc[:7]\n",
    "\n",
    "plt.figure(figsize=(15,5))\n",
    "figure = sns.barplot(data= fig, y= 'proft', x='sku', hue= 'cod')\n",
    "plt.xticks(rotation= 90)[0]"
   ]
  },
  {
   "cell_type": "markdown",
   "id": "93717534",
   "metadata": {},
   "source": [
    "# 6. Resumo dos insights\n",
    "\n",
    "Limitaremos a 10 insights, mas podemos tirar muita mais que 10 insights.\n",
    "\n",
    "1.\tO lucro de 2021 foi maior que 2022, não porque 2021 foi mais performático, mas sim porque o range dos dados é de junho/2021 a fev/2022;\n",
    "2.\tOs compradores preferem pagar mais online do que na entrega;\n",
    "3.\tO mês de dezembro foi o que mais se destacou, provavelmente, devido ao Natal;\n",
    "4.\tEm dezembro, o dia da semana que teve mais venda foi a terça-feira e o dia 21/12/2021. Esse destaque ocorreu devido o natal;\n",
    "5.\tObservamos que em janeiro/2022 houve muita devoluções, o que demonstra o efeito do “arrependimento da compra” ;\n",
    "6.\tO estado que teve mais lucro foi o MAHARASHTRA seguido por WEST BENGAL e TAMIL NADU;\n",
    "7.\tA cidade que mais teve lucro em MAHARASHTRA foi Mumbai, com um lucro aproximado de 17,5k. Oque compõem 60% do lucro do estado;\n",
    "8.\tA cidade que mais teve lucro em WEST BENGAL foi Kolkata, com um lucro aproximado de 25k. Oque compõem 85% do lucro do estado;\n",
    "9.\tA cidade que mais teve lucro em TAMIL NADU foi Chennai, com um lucro aproximado de 20k. Oque compõem 80% do lucro do estado;\n",
    "10.\tO produto que teve mais performasse foi o SKU: SB-WDQN-SDN9, com um lucro aproximadamente 120k em pagamentos online e 2k em pagamentos na entrega, já o produto SKU: DN-0WDX-VYOT deve um lucro de 4k em pagamentos na entrega, comparado aos outros produtos.\n"
   ]
  },
  {
   "cell_type": "markdown",
   "id": "da8b872f",
   "metadata": {},
   "source": [
    "# 7. Visualizando correlação dos dados"
   ]
  },
  {
   "cell_type": "code",
   "execution_count": 27,
   "id": "85e10926",
   "metadata": {},
   "outputs": [],
   "source": [
    "def normalization(df, N= 0):\n",
    "    df = df.copy()\n",
    "    \n",
    "    # Removendo colunas desnecessarias\n",
    "    df.drop(columns= ['order_no', 'Date', 'Time', 'Month_Name', 'description'], inplace= True)\n",
    "    \n",
    "    # Categorizando dados\n",
    "    enconder = LabelEncoder()\n",
    "    labels = ['buyer', 'ship_city', 'ship_state', 'sku', 'cod', 'order_status', 'Year', 'Day_Name']\n",
    "    \n",
    "    cat = df[labels].copy()\n",
    "    \n",
    "    for label in labels:\n",
    "        cat[label] = enconder.fit_transform(cat[label])\n",
    "        \n",
    "    df.drop(columns= labels, inplace= True)\n",
    "    df = pd.concat([df, cat], axis= 1)\n",
    "    \n",
    "    # Balanceando as classes\n",
    "    seller = df.query('order_status == 1')\n",
    "    buyer = df.query('order_status == 0').sample(n=len(seller)+N, random_state = 48)\n",
    "    \n",
    "    df = pd.concat([seller, buyer], axis= 0, ignore_index= True)\n",
    "    \n",
    "    # Normalizando Valores\n",
    "    scaler = StandardScaler()\n",
    "    \n",
    "    X = df.drop(columns= 'order_status')\n",
    "    y = df['order_status']\n",
    "    \n",
    "    df = pd.DataFrame(scaler.fit_transform(X), columns= X.columns)\n",
    "    df = pd.concat([df, y], axis= 1)\n",
    "    \n",
    "    return df"
   ]
  },
  {
   "cell_type": "code",
   "execution_count": 28,
   "id": "c18a94b7",
   "metadata": {},
   "outputs": [
    {
     "data": {
      "text/html": [
       "<div>\n",
       "<style scoped>\n",
       "    .dataframe tbody tr th:only-of-type {\n",
       "        vertical-align: middle;\n",
       "    }\n",
       "\n",
       "    .dataframe tbody tr th {\n",
       "        vertical-align: top;\n",
       "    }\n",
       "\n",
       "    .dataframe thead th {\n",
       "        text-align: right;\n",
       "    }\n",
       "</style>\n",
       "<table border=\"1\" class=\"dataframe\">\n",
       "  <thead>\n",
       "    <tr style=\"text-align: right;\">\n",
       "      <th></th>\n",
       "      <th>quantity</th>\n",
       "      <th>item_total</th>\n",
       "      <th>shipping_fee</th>\n",
       "      <th>Month</th>\n",
       "      <th>buyer</th>\n",
       "      <th>ship_city</th>\n",
       "      <th>ship_state</th>\n",
       "      <th>sku</th>\n",
       "      <th>cod</th>\n",
       "      <th>Year</th>\n",
       "      <th>Day_Name</th>\n",
       "      <th>order_status</th>\n",
       "    </tr>\n",
       "  </thead>\n",
       "  <tbody>\n",
       "    <tr>\n",
       "      <th>0</th>\n",
       "      <td>-0.218218</td>\n",
       "      <td>-0.719673</td>\n",
       "      <td>-1.999423</td>\n",
       "      <td>0.221396</td>\n",
       "      <td>1.801799</td>\n",
       "      <td>0.943807</td>\n",
       "      <td>0.970757</td>\n",
       "      <td>1.364292</td>\n",
       "      <td>-1.20185</td>\n",
       "      <td>-0.68313</td>\n",
       "      <td>0.405567</td>\n",
       "      <td>1</td>\n",
       "    </tr>\n",
       "    <tr>\n",
       "      <th>1</th>\n",
       "      <td>-0.218218</td>\n",
       "      <td>-0.719673</td>\n",
       "      <td>0.646430</td>\n",
       "      <td>0.685274</td>\n",
       "      <td>0.687154</td>\n",
       "      <td>0.613350</td>\n",
       "      <td>-0.168265</td>\n",
       "      <td>1.974065</td>\n",
       "      <td>-1.20185</td>\n",
       "      <td>-0.68313</td>\n",
       "      <td>0.405567</td>\n",
       "      <td>1</td>\n",
       "    </tr>\n",
       "    <tr>\n",
       "      <th>2</th>\n",
       "      <td>-0.218218</td>\n",
       "      <td>-0.719673</td>\n",
       "      <td>0.646430</td>\n",
       "      <td>0.917213</td>\n",
       "      <td>-0.752597</td>\n",
       "      <td>-0.543253</td>\n",
       "      <td>-1.022531</td>\n",
       "      <td>-0.126266</td>\n",
       "      <td>0.83205</td>\n",
       "      <td>-0.68313</td>\n",
       "      <td>-1.693840</td>\n",
       "      <td>1</td>\n",
       "    </tr>\n",
       "    <tr>\n",
       "      <th>3</th>\n",
       "      <td>-0.218218</td>\n",
       "      <td>-0.719673</td>\n",
       "      <td>-1.999423</td>\n",
       "      <td>-0.242482</td>\n",
       "      <td>1.360585</td>\n",
       "      <td>0.668426</td>\n",
       "      <td>-0.168265</td>\n",
       "      <td>-1.345814</td>\n",
       "      <td>-1.20185</td>\n",
       "      <td>-0.68313</td>\n",
       "      <td>-1.693840</td>\n",
       "      <td>1</td>\n",
       "    </tr>\n",
       "    <tr>\n",
       "      <th>4</th>\n",
       "      <td>4.582576</td>\n",
       "      <td>-0.719673</td>\n",
       "      <td>0.646430</td>\n",
       "      <td>0.917213</td>\n",
       "      <td>-0.357827</td>\n",
       "      <td>0.833655</td>\n",
       "      <td>-1.449664</td>\n",
       "      <td>-1.074803</td>\n",
       "      <td>0.83205</td>\n",
       "      <td>-0.68313</td>\n",
       "      <td>-1.693840</td>\n",
       "      <td>1</td>\n",
       "    </tr>\n",
       "  </tbody>\n",
       "</table>\n",
       "</div>"
      ],
      "text/plain": [
       "   quantity  item_total  shipping_fee     Month     buyer  ship_city  \\\n",
       "0 -0.218218   -0.719673     -1.999423  0.221396  1.801799   0.943807   \n",
       "1 -0.218218   -0.719673      0.646430  0.685274  0.687154   0.613350   \n",
       "2 -0.218218   -0.719673      0.646430  0.917213 -0.752597  -0.543253   \n",
       "3 -0.218218   -0.719673     -1.999423 -0.242482  1.360585   0.668426   \n",
       "4  4.582576   -0.719673      0.646430  0.917213 -0.357827   0.833655   \n",
       "\n",
       "   ship_state       sku      cod     Year  Day_Name  order_status  \n",
       "0    0.970757  1.364292 -1.20185 -0.68313  0.405567             1  \n",
       "1   -0.168265  1.974065 -1.20185 -0.68313  0.405567             1  \n",
       "2   -1.022531 -0.126266  0.83205 -0.68313 -1.693840             1  \n",
       "3   -0.168265 -1.345814 -1.20185 -0.68313 -1.693840             1  \n",
       "4   -1.449664 -1.074803  0.83205 -0.68313 -1.693840             1  "
      ]
     },
     "execution_count": 28,
     "metadata": {},
     "output_type": "execute_result"
    }
   ],
   "source": [
    "new_df = normalization(df)\n",
    "new_df.head()"
   ]
  },
  {
   "cell_type": "code",
   "execution_count": 29,
   "id": "53c8d98c",
   "metadata": {},
   "outputs": [
    {
     "data": {
      "image/png": "[encoded data removed]",
      "text/plain": [
       "<Figure size 864x720 with 2 Axes>"
      ]
     },
     "metadata": {
      "needs_background": "light"
     },
     "output_type": "display_data"
    }
   ],
   "source": [
    "corr = new_df.corr()\n",
    "\n",
    "plt.figure(figsize=(12, 10))\n",
    "sns.heatmap(corr, annot= True, vmin= -1.0, cmap= 'mako')\n",
    "plt.show()"
   ]
  },
  {
   "cell_type": "markdown",
   "id": "3c2b0143",
   "metadata": {},
   "source": [
    "# 8. Treinando modelos"
   ]
  },
  {
   "cell_type": "code",
   "execution_count": 30,
   "id": "044c5ff2",
   "metadata": {},
   "outputs": [],
   "source": [
    "def model(df, modelo, parametros):\n",
    "    df= df.copy()\n",
    "    \n",
    "    # Removendo colunas desnecessarias\n",
    "    df.drop(columns= ['order_no', 'Date', 'Time', 'Month_Name', 'description'], inplace= True)\n",
    "    \n",
    "    # Categorizando dados\n",
    "    enconder = LabelEncoder()\n",
    "    labels = ['buyer', 'ship_city', 'ship_state', 'sku', 'cod', 'order_status', 'Year', 'Day_Name']\n",
    "    \n",
    "    cat = df[labels].copy()\n",
    "    \n",
    "    for label in labels:\n",
    "        cat[label] = enconder.fit_transform(cat[label])\n",
    "        \n",
    "    df.drop(columns= labels, inplace= True)\n",
    "    df = pd.concat([df, cat], axis= 1)\n",
    "    \n",
    "    # Balanceando as classes\n",
    "    seller = df.query('order_status == 1')\n",
    "    buyer = df.query('order_status == 0').sample(n=len(seller)+10, random_state = 48)\n",
    "    \n",
    "    df_balanceado = pd.concat([seller, buyer], axis= 0, ignore_index= True)\n",
    "    \n",
    "    # Seprando Dataset em X e y\n",
    "    X_train = df_balanceado.drop(columns= 'order_status').copy()\n",
    "    y_train = df_balanceado['order_status'].copy()\n",
    "    \n",
    "    X_test = df.drop(columns= 'order_status').copy()\n",
    "    y_test = df['order_status'].copy()\n",
    "    \n",
    "    # Normalizando Valores\n",
    "    scaler = StandardScaler()\n",
    "    \n",
    "    X_train = pd.DataFrame(scaler.fit_transform(X_train), columns= X_train.columns)\n",
    "    X_test = pd.DataFrame(scaler.fit_transform(X_test), columns= X_test.columns)\n",
    "    \n",
    "    # Otimizando hiperparametros\n",
    "    cv = GridSearchCV(modelo, param_grid= parametros, cv=10)\n",
    "    cv.fit(X_train, y_train)\n",
    "    \n",
    "    # Selecionando o melhor modelo\n",
    "    modelo = cv.best_estimator_\n",
    "\n",
    "    return modelo, X_train, y_train, X_test, y_test"
   ]
  },
  {
   "cell_type": "markdown",
   "id": "2f573abb",
   "metadata": {},
   "source": [
    "### KNN - Mark 1"
   ]
  },
  {
   "cell_type": "code",
   "execution_count": 31,
   "id": "a0a17c61",
   "metadata": {},
   "outputs": [],
   "source": [
    "params_knn = {\n",
    "    'n_neighbors': [row for row in range(5, 50, 5)],\n",
    "    'weights': ['uniform', 'distance'],\n",
    "}\n",
    "\n",
    "knn, X_train, y_train, X_test, y_test = model(df= df, modelo= KNeighborsClassifier(), parametros= params_knn)"
   ]
  },
  {
   "cell_type": "markdown",
   "id": "aef3cca5",
   "metadata": {},
   "source": [
    "### SVC - Mark 2"
   ]
  },
  {
   "cell_type": "code",
   "execution_count": 32,
   "id": "4b8b5cac",
   "metadata": {},
   "outputs": [],
   "source": [
    "params_svc = {\n",
    "    'penalty': ['l1', 'l2'],\n",
    "    'loss': ['hinge', 'squared_hinge'],\n",
    "    'C': [N for N in range(0, 110, 5)],\n",
    "}\n",
    "\n",
    "svc, X_train, y_train, X_test, y_test = model(df= df, modelo= LinearSVC(), parametros= params_svc)"
   ]
  },
  {
   "cell_type": "markdown",
   "id": "90cfa01f",
   "metadata": {},
   "source": [
    "### Decision Tree Classifier - Mark 3"
   ]
  },
  {
   "cell_type": "code",
   "execution_count": 33,
   "id": "dc17838d",
   "metadata": {},
   "outputs": [],
   "source": [
    "params_decisiontree = {\n",
    "    'criterion': ['gini', 'entropy'],\n",
    "    'max_depth': [N for N in range(0, 100, 5)],\n",
    "    'max_features': ['auto', 'sqrt', 'log2', None]\n",
    "}\n",
    "\n",
    "decisionTree, X_train, y_train, X_test, y_test = model(df= df, modelo= DecisionTreeClassifier(), parametros= params_decisiontree)"
   ]
  },
  {
   "cell_type": "markdown",
   "id": "e94a3047",
   "metadata": {},
   "source": [
    "### Logistic Regression - Mark 4"
   ]
  },
  {
   "cell_type": "code",
   "execution_count": 34,
   "id": "3f17033b",
   "metadata": {},
   "outputs": [],
   "source": [
    "params_log = {\n",
    "    'penalty': ['l1', 'l2', 'elasticnet', 'none'],\n",
    "    'C': [N for N in range(0, 110, 5)]\n",
    "}\n",
    "\n",
    "log, X_train, y_train, X_test, y_test = model(df= df, modelo= LogisticRegression(), parametros= params_log)"
   ]
  },
  {
   "cell_type": "markdown",
   "id": "b919a28b",
   "metadata": {},
   "source": [
    "# 9. Avaliando modelos"
   ]
  },
  {
   "cell_type": "code",
   "execution_count": 35,
   "id": "fad29bbe",
   "metadata": {},
   "outputs": [],
   "source": [
    "def resume_metrics(modelo, X_train, y_train, X_test, y_test):\n",
    "    \n",
    "    # Prevendo dados de teste e dados de treino\n",
    "    train_pred = modelo.predict(X_train)\n",
    "    test_pred = modelo.predict(X_test)\n",
    "    \n",
    "    # Criando dataframe com o resumo das metricas\n",
    "    metrics = {\n",
    "        'Accuracy Score': [accuracy_score(y_test, test_pred), accuracy_score(y_train, train_pred)],\n",
    "        'F1 Score': [f1_score(y_test, test_pred), f1_score(y_train, train_pred)],\n",
    "        'Log Loss': [log_loss(y_test, test_pred), log_loss(y_train, train_pred)],\n",
    "        'Precision Score': [precision_score(y_test, test_pred), precision_score(y_train, train_pred)],\n",
    "        'Recall Score': [recall_score(y_test, test_pred), recall_score(y_train, train_pred)],\n",
    "        'Brier Score Loss': [brier_score_loss(y_test, test_pred), brier_score_loss(y_train, train_pred)],\n",
    "        'ROC AUC Score': [roc_auc_score(y_test, test_pred), roc_auc_score(y_train, train_pred)]\n",
    "    }\n",
    "    \n",
    "    metrics = pd.DataFrame(metrics, index= ['Data test', 'Data train'])\n",
    "    \n",
    "    return metrics"
   ]
  },
  {
   "cell_type": "code",
   "execution_count": 36,
   "id": "10cae600",
   "metadata": {},
   "outputs": [],
   "source": [
    "def plot_roc_curve(modelo, X_test, y_test):\n",
    "    \n",
    "    prob = modelo.predict_proba(X_test)\n",
    "    prob = prob[:, 1]\n",
    "    \n",
    "    fper, tper, thresholds = roc_curve(y_test, prob)\n",
    "    \n",
    "    plt.figure(figsize=(10, 5))\n",
    "    plt.plot(fper, tper, color='#377BA6', label='ROC')\n",
    "    plt.plot([0, 1], [0, 1], color='#D96B2B', linestyle='--')\n",
    "    plt.xlabel('False Positive Rate')\n",
    "    plt.ylabel('True Positive Rate')\n",
    "    plt.title('Receiver Operating Characteristic Curve')\n",
    "    plt.legend()\n",
    "    plt.show()"
   ]
  },
  {
   "cell_type": "code",
   "execution_count": 37,
   "id": "32ab7bd1",
   "metadata": {},
   "outputs": [],
   "source": [
    "def model_metrics(dic_model, X_test, y_test):\n",
    "    acc = []\n",
    "    \n",
    "    for index, modelo in dic_model.items():\n",
    "    \n",
    "        # Prevendo dados de teste e dados de treino\n",
    "        test_pred = modelo.predict(X_test)\n",
    "\n",
    "        # Criando dataframe com o resumo das metricas\n",
    "        metrics = {\n",
    "            'Name Model': index,\n",
    "            'Accuracy Score': [accuracy_score(y_test, test_pred)],\n",
    "            'F1 Score': [f1_score(y_test, test_pred)],\n",
    "            'Log Loss': [log_loss(y_test, test_pred)],\n",
    "            'Precision Score': [precision_score(y_test, test_pred)],\n",
    "            'Recall Score': [recall_score(y_test, test_pred)],\n",
    "            'Brier Score Loss': [brier_score_loss(y_test, test_pred)],\n",
    "            'ROC AUC Score': [roc_auc_score(y_test, test_pred)]\n",
    "        }\n",
    "        \n",
    "        metrics = pd.DataFrame(metrics)\n",
    "   \n",
    "        acc.append(metrics)\n",
    "    \n",
    "    acc = pd.concat(acc, axis= 0, ignore_index= True).sort_values(by='Accuracy Score', ascending= False)\n",
    "    \n",
    "    return acc"
   ]
  },
  {
   "cell_type": "code",
   "execution_count": 38,
   "id": "22372160",
   "metadata": {},
   "outputs": [],
   "source": [
    "def evaluating_cost(dic, X_test, y_test):\n",
    "    resultado = []\n",
    "\n",
    "    for index, modelo in dic.items():\n",
    "\n",
    "        for i in range(10, 101, 10):\n",
    "\n",
    "            i = i/100\n",
    "\n",
    "            X = X_test.sample(frac= i, random_state= 2)\n",
    "            y = y_test[X.index]\n",
    "\n",
    "            cm = confusion_matrix(y, modelo.predict(X))\n",
    "\n",
    "            FN = cm[0][1]\n",
    "            FP = cm[1][0]\n",
    "            VN = cm[1][1]\n",
    "\n",
    "            proft = (-FN * 10) + (-FP * 71.86) + (VN * 61.86) \n",
    "\n",
    "            resultado.append({'modelo': index, 'frac': i, 'proft': proft})\n",
    "    \n",
    "    resultado = pd.DataFrame(resultado)\n",
    "    \n",
    "    plt.figure(figsize= (15, 5))\n",
    "    sns.lineplot(x= resultado['frac'], y= resultado['proft'], hue= resultado['modelo'])\n",
    "    plt.show"
   ]
  },
  {
   "cell_type": "markdown",
   "id": "000de9a9",
   "metadata": {},
   "source": [
    "### Resumo das Metricas por modelo"
   ]
  },
  {
   "cell_type": "markdown",
   "id": "783d3f54",
   "metadata": {},
   "source": [
    "#### KNN - Mark 1"
   ]
  },
  {
   "cell_type": "code",
   "execution_count": 39,
   "id": "49dcd030",
   "metadata": {},
   "outputs": [
    {
     "data": {
      "text/html": [
       "<div>\n",
       "<style scoped>\n",
       "    .dataframe tbody tr th:only-of-type {\n",
       "        vertical-align: middle;\n",
       "    }\n",
       "\n",
       "    .dataframe tbody tr th {\n",
       "        vertical-align: top;\n",
       "    }\n",
       "\n",
       "    .dataframe thead th {\n",
       "        text-align: right;\n",
       "    }\n",
       "</style>\n",
       "<table border=\"1\" class=\"dataframe\">\n",
       "  <thead>\n",
       "    <tr style=\"text-align: right;\">\n",
       "      <th></th>\n",
       "      <th>Accuracy Score</th>\n",
       "      <th>F1 Score</th>\n",
       "      <th>Log Loss</th>\n",
       "      <th>Precision Score</th>\n",
       "      <th>Recall Score</th>\n",
       "      <th>Brier Score Loss</th>\n",
       "      <th>ROC AUC Score</th>\n",
       "    </tr>\n",
       "  </thead>\n",
       "  <tbody>\n",
       "    <tr>\n",
       "      <th>Data test</th>\n",
       "      <td>0.976608</td>\n",
       "      <td>0.818182</td>\n",
       "      <td>8.079339e-01</td>\n",
       "      <td>0.818182</td>\n",
       "      <td>0.818182</td>\n",
       "      <td>0.023392</td>\n",
       "      <td>0.902841</td>\n",
       "    </tr>\n",
       "    <tr>\n",
       "      <th>Data train</th>\n",
       "      <td>1.000000</td>\n",
       "      <td>1.000000</td>\n",
       "      <td>9.992007e-16</td>\n",
       "      <td>1.000000</td>\n",
       "      <td>1.000000</td>\n",
       "      <td>0.000000</td>\n",
       "      <td>1.000000</td>\n",
       "    </tr>\n",
       "  </tbody>\n",
       "</table>\n",
       "</div>"
      ],
      "text/plain": [
       "            Accuracy Score  F1 Score      Log Loss  Precision Score  \\\n",
       "Data test         0.976608  0.818182  8.079339e-01         0.818182   \n",
       "Data train        1.000000  1.000000  9.992007e-16         1.000000   \n",
       "\n",
       "            Recall Score  Brier Score Loss  ROC AUC Score  \n",
       "Data test       0.818182          0.023392       0.902841  \n",
       "Data train      1.000000          0.000000       1.000000  "
      ]
     },
     "execution_count": 39,
     "metadata": {},
     "output_type": "execute_result"
    }
   ],
   "source": [
    "resume_metrics(knn, X_train, y_train, X_test, y_test)"
   ]
  },
  {
   "cell_type": "code",
   "execution_count": 40,
   "id": "dfa54064",
   "metadata": {},
   "outputs": [
    {
     "data": {
      "text/html": [
       "<div>\n",
       "<style scoped>\n",
       "    .dataframe tbody tr th:only-of-type {\n",
       "        vertical-align: middle;\n",
       "    }\n",
       "\n",
       "    .dataframe tbody tr th {\n",
       "        vertical-align: top;\n",
       "    }\n",
       "\n",
       "    .dataframe thead th {\n",
       "        text-align: right;\n",
       "    }\n",
       "</style>\n",
       "<table border=\"1\" class=\"dataframe\">\n",
       "  <thead>\n",
       "    <tr style=\"text-align: right;\">\n",
       "      <th></th>\n",
       "      <th>Positive</th>\n",
       "      <th>Negative</th>\n",
       "    </tr>\n",
       "  </thead>\n",
       "  <tbody>\n",
       "    <tr>\n",
       "      <th>Positive</th>\n",
       "      <td>158</td>\n",
       "      <td>2</td>\n",
       "    </tr>\n",
       "    <tr>\n",
       "      <th>Negative</th>\n",
       "      <td>2</td>\n",
       "      <td>9</td>\n",
       "    </tr>\n",
       "  </tbody>\n",
       "</table>\n",
       "</div>"
      ],
      "text/plain": [
       "          Positive  Negative\n",
       "Positive       158         2\n",
       "Negative         2         9"
      ]
     },
     "execution_count": 40,
     "metadata": {},
     "output_type": "execute_result"
    }
   ],
   "source": [
    "pd.DataFrame(confusion_matrix(y_test, knn.predict(X_test)), columns= ['Positive', 'Negative'], index= ['Positive', 'Negative'])"
   ]
  },
  {
   "cell_type": "markdown",
   "id": "e92cbd1c",
   "metadata": {},
   "source": [
    "#### SVC - Mark 2"
   ]
  },
  {
   "cell_type": "code",
   "execution_count": 41,
   "id": "aec2baf1",
   "metadata": {},
   "outputs": [
    {
     "data": {
      "text/html": [
       "<div>\n",
       "<style scoped>\n",
       "    .dataframe tbody tr th:only-of-type {\n",
       "        vertical-align: middle;\n",
       "    }\n",
       "\n",
       "    .dataframe tbody tr th {\n",
       "        vertical-align: top;\n",
       "    }\n",
       "\n",
       "    .dataframe thead th {\n",
       "        text-align: right;\n",
       "    }\n",
       "</style>\n",
       "<table border=\"1\" class=\"dataframe\">\n",
       "  <thead>\n",
       "    <tr style=\"text-align: right;\">\n",
       "      <th></th>\n",
       "      <th>Accuracy Score</th>\n",
       "      <th>F1 Score</th>\n",
       "      <th>Log Loss</th>\n",
       "      <th>Precision Score</th>\n",
       "      <th>Recall Score</th>\n",
       "      <th>Brier Score Loss</th>\n",
       "      <th>ROC AUC Score</th>\n",
       "    </tr>\n",
       "  </thead>\n",
       "  <tbody>\n",
       "    <tr>\n",
       "      <th>Data test</th>\n",
       "      <td>0.777778</td>\n",
       "      <td>0.366667</td>\n",
       "      <td>7.675461e+00</td>\n",
       "      <td>0.22449</td>\n",
       "      <td>1.0</td>\n",
       "      <td>0.222222</td>\n",
       "      <td>0.88125</td>\n",
       "    </tr>\n",
       "    <tr>\n",
       "      <th>Data train</th>\n",
       "      <td>1.000000</td>\n",
       "      <td>1.000000</td>\n",
       "      <td>9.992007e-16</td>\n",
       "      <td>1.00000</td>\n",
       "      <td>1.0</td>\n",
       "      <td>0.000000</td>\n",
       "      <td>1.00000</td>\n",
       "    </tr>\n",
       "  </tbody>\n",
       "</table>\n",
       "</div>"
      ],
      "text/plain": [
       "            Accuracy Score  F1 Score      Log Loss  Precision Score  \\\n",
       "Data test         0.777778  0.366667  7.675461e+00          0.22449   \n",
       "Data train        1.000000  1.000000  9.992007e-16          1.00000   \n",
       "\n",
       "            Recall Score  Brier Score Loss  ROC AUC Score  \n",
       "Data test            1.0          0.222222        0.88125  \n",
       "Data train           1.0          0.000000        1.00000  "
      ]
     },
     "execution_count": 41,
     "metadata": {},
     "output_type": "execute_result"
    }
   ],
   "source": [
    "resume_metrics(svc, X_train, y_train, X_test, y_test)"
   ]
  },
  {
   "cell_type": "code",
   "execution_count": 42,
   "id": "fabbf3f4",
   "metadata": {},
   "outputs": [
    {
     "data": {
      "text/html": [
       "<div>\n",
       "<style scoped>\n",
       "    .dataframe tbody tr th:only-of-type {\n",
       "        vertical-align: middle;\n",
       "    }\n",
       "\n",
       "    .dataframe tbody tr th {\n",
       "        vertical-align: top;\n",
       "    }\n",
       "\n",
       "    .dataframe thead th {\n",
       "        text-align: right;\n",
       "    }\n",
       "</style>\n",
       "<table border=\"1\" class=\"dataframe\">\n",
       "  <thead>\n",
       "    <tr style=\"text-align: right;\">\n",
       "      <th></th>\n",
       "      <th>Positive</th>\n",
       "      <th>Negative</th>\n",
       "    </tr>\n",
       "  </thead>\n",
       "  <tbody>\n",
       "    <tr>\n",
       "      <th>Positive</th>\n",
       "      <td>122</td>\n",
       "      <td>38</td>\n",
       "    </tr>\n",
       "    <tr>\n",
       "      <th>Negative</th>\n",
       "      <td>0</td>\n",
       "      <td>11</td>\n",
       "    </tr>\n",
       "  </tbody>\n",
       "</table>\n",
       "</div>"
      ],
      "text/plain": [
       "          Positive  Negative\n",
       "Positive       122        38\n",
       "Negative         0        11"
      ]
     },
     "execution_count": 42,
     "metadata": {},
     "output_type": "execute_result"
    }
   ],
   "source": [
    "pd.DataFrame(confusion_matrix(y_test, svc.predict(X_test)), columns= ['Positive', 'Negative'], index= ['Positive', 'Negative'])"
   ]
  },
  {
   "cell_type": "markdown",
   "id": "61007a7c",
   "metadata": {},
   "source": [
    "#### Decision Tree Classifier - Mark 3"
   ]
  },
  {
   "cell_type": "code",
   "execution_count": 43,
   "id": "6d00108a",
   "metadata": {},
   "outputs": [
    {
     "data": {
      "text/html": [
       "<div>\n",
       "<style scoped>\n",
       "    .dataframe tbody tr th:only-of-type {\n",
       "        vertical-align: middle;\n",
       "    }\n",
       "\n",
       "    .dataframe tbody tr th {\n",
       "        vertical-align: top;\n",
       "    }\n",
       "\n",
       "    .dataframe thead th {\n",
       "        text-align: right;\n",
       "    }\n",
       "</style>\n",
       "<table border=\"1\" class=\"dataframe\">\n",
       "  <thead>\n",
       "    <tr style=\"text-align: right;\">\n",
       "      <th></th>\n",
       "      <th>Accuracy Score</th>\n",
       "      <th>F1 Score</th>\n",
       "      <th>Log Loss</th>\n",
       "      <th>Precision Score</th>\n",
       "      <th>Recall Score</th>\n",
       "      <th>Brier Score Loss</th>\n",
       "      <th>ROC AUC Score</th>\n",
       "    </tr>\n",
       "  </thead>\n",
       "  <tbody>\n",
       "    <tr>\n",
       "      <th>Data test</th>\n",
       "      <td>0.947368</td>\n",
       "      <td>0.709677</td>\n",
       "      <td>1.817872e+00</td>\n",
       "      <td>0.55</td>\n",
       "      <td>1.0</td>\n",
       "      <td>0.052632</td>\n",
       "      <td>0.971875</td>\n",
       "    </tr>\n",
       "    <tr>\n",
       "      <th>Data train</th>\n",
       "      <td>1.000000</td>\n",
       "      <td>1.000000</td>\n",
       "      <td>9.992007e-16</td>\n",
       "      <td>1.00</td>\n",
       "      <td>1.0</td>\n",
       "      <td>0.000000</td>\n",
       "      <td>1.000000</td>\n",
       "    </tr>\n",
       "  </tbody>\n",
       "</table>\n",
       "</div>"
      ],
      "text/plain": [
       "            Accuracy Score  F1 Score      Log Loss  Precision Score  \\\n",
       "Data test         0.947368  0.709677  1.817872e+00             0.55   \n",
       "Data train        1.000000  1.000000  9.992007e-16             1.00   \n",
       "\n",
       "            Recall Score  Brier Score Loss  ROC AUC Score  \n",
       "Data test            1.0          0.052632       0.971875  \n",
       "Data train           1.0          0.000000       1.000000  "
      ]
     },
     "execution_count": 43,
     "metadata": {},
     "output_type": "execute_result"
    }
   ],
   "source": [
    "resume_metrics(decisionTree, X_train, y_train, X_test, y_test)"
   ]
  },
  {
   "cell_type": "code",
   "execution_count": 44,
   "id": "4b786821",
   "metadata": {},
   "outputs": [
    {
     "data": {
      "text/html": [
       "<div>\n",
       "<style scoped>\n",
       "    .dataframe tbody tr th:only-of-type {\n",
       "        vertical-align: middle;\n",
       "    }\n",
       "\n",
       "    .dataframe tbody tr th {\n",
       "        vertical-align: top;\n",
       "    }\n",
       "\n",
       "    .dataframe thead th {\n",
       "        text-align: right;\n",
       "    }\n",
       "</style>\n",
       "<table border=\"1\" class=\"dataframe\">\n",
       "  <thead>\n",
       "    <tr style=\"text-align: right;\">\n",
       "      <th></th>\n",
       "      <th>Positive</th>\n",
       "      <th>Negative</th>\n",
       "    </tr>\n",
       "  </thead>\n",
       "  <tbody>\n",
       "    <tr>\n",
       "      <th>Positive</th>\n",
       "      <td>151</td>\n",
       "      <td>9</td>\n",
       "    </tr>\n",
       "    <tr>\n",
       "      <th>Negative</th>\n",
       "      <td>0</td>\n",
       "      <td>11</td>\n",
       "    </tr>\n",
       "  </tbody>\n",
       "</table>\n",
       "</div>"
      ],
      "text/plain": [
       "          Positive  Negative\n",
       "Positive       151         9\n",
       "Negative         0        11"
      ]
     },
     "execution_count": 44,
     "metadata": {},
     "output_type": "execute_result"
    }
   ],
   "source": [
    "pd.DataFrame(confusion_matrix(y_test, decisionTree.predict(X_test)), columns= ['Positive', 'Negative'], index= ['Positive', 'Negative'])"
   ]
  },
  {
   "cell_type": "markdown",
   "id": "889e63a5",
   "metadata": {},
   "source": [
    "#### Logistic Regression - Mark 4"
   ]
  },
  {
   "cell_type": "code",
   "execution_count": 45,
   "id": "0c88fe6f",
   "metadata": {},
   "outputs": [
    {
     "data": {
      "text/html": [
       "<div>\n",
       "<style scoped>\n",
       "    .dataframe tbody tr th:only-of-type {\n",
       "        vertical-align: middle;\n",
       "    }\n",
       "\n",
       "    .dataframe tbody tr th {\n",
       "        vertical-align: top;\n",
       "    }\n",
       "\n",
       "    .dataframe thead th {\n",
       "        text-align: right;\n",
       "    }\n",
       "</style>\n",
       "<table border=\"1\" class=\"dataframe\">\n",
       "  <thead>\n",
       "    <tr style=\"text-align: right;\">\n",
       "      <th></th>\n",
       "      <th>Accuracy Score</th>\n",
       "      <th>F1 Score</th>\n",
       "      <th>Log Loss</th>\n",
       "      <th>Precision Score</th>\n",
       "      <th>Recall Score</th>\n",
       "      <th>Brier Score Loss</th>\n",
       "      <th>ROC AUC Score</th>\n",
       "    </tr>\n",
       "  </thead>\n",
       "  <tbody>\n",
       "    <tr>\n",
       "      <th>Data test</th>\n",
       "      <td>0.818713</td>\n",
       "      <td>0.415094</td>\n",
       "      <td>6.261561e+00</td>\n",
       "      <td>0.261905</td>\n",
       "      <td>1.0</td>\n",
       "      <td>0.181287</td>\n",
       "      <td>0.903125</td>\n",
       "    </tr>\n",
       "    <tr>\n",
       "      <th>Data train</th>\n",
       "      <td>1.000000</td>\n",
       "      <td>1.000000</td>\n",
       "      <td>9.992007e-16</td>\n",
       "      <td>1.000000</td>\n",
       "      <td>1.0</td>\n",
       "      <td>0.000000</td>\n",
       "      <td>1.000000</td>\n",
       "    </tr>\n",
       "  </tbody>\n",
       "</table>\n",
       "</div>"
      ],
      "text/plain": [
       "            Accuracy Score  F1 Score      Log Loss  Precision Score  \\\n",
       "Data test         0.818713  0.415094  6.261561e+00         0.261905   \n",
       "Data train        1.000000  1.000000  9.992007e-16         1.000000   \n",
       "\n",
       "            Recall Score  Brier Score Loss  ROC AUC Score  \n",
       "Data test            1.0          0.181287       0.903125  \n",
       "Data train           1.0          0.000000       1.000000  "
      ]
     },
     "execution_count": 45,
     "metadata": {},
     "output_type": "execute_result"
    }
   ],
   "source": [
    "resume_metrics(log, X_train, y_train, X_test, y_test)"
   ]
  },
  {
   "cell_type": "code",
   "execution_count": 46,
   "id": "64e53c5f",
   "metadata": {},
   "outputs": [
    {
     "data": {
      "text/html": [
       "<div>\n",
       "<style scoped>\n",
       "    .dataframe tbody tr th:only-of-type {\n",
       "        vertical-align: middle;\n",
       "    }\n",
       "\n",
       "    .dataframe tbody tr th {\n",
       "        vertical-align: top;\n",
       "    }\n",
       "\n",
       "    .dataframe thead th {\n",
       "        text-align: right;\n",
       "    }\n",
       "</style>\n",
       "<table border=\"1\" class=\"dataframe\">\n",
       "  <thead>\n",
       "    <tr style=\"text-align: right;\">\n",
       "      <th></th>\n",
       "      <th>Positive</th>\n",
       "      <th>Negative</th>\n",
       "    </tr>\n",
       "  </thead>\n",
       "  <tbody>\n",
       "    <tr>\n",
       "      <th>Positive</th>\n",
       "      <td>129</td>\n",
       "      <td>31</td>\n",
       "    </tr>\n",
       "    <tr>\n",
       "      <th>Negative</th>\n",
       "      <td>0</td>\n",
       "      <td>11</td>\n",
       "    </tr>\n",
       "  </tbody>\n",
       "</table>\n",
       "</div>"
      ],
      "text/plain": [
       "          Positive  Negative\n",
       "Positive       129        31\n",
       "Negative         0        11"
      ]
     },
     "execution_count": 46,
     "metadata": {},
     "output_type": "execute_result"
    }
   ],
   "source": [
    "pd.DataFrame(confusion_matrix(y_test, log.predict(X_test)), columns= ['Positive', 'Negative'], index= ['Positive', 'Negative'])"
   ]
  },
  {
   "cell_type": "markdown",
   "id": "6c0efb2c",
   "metadata": {},
   "source": [
    "### Grafico ROC por modelo"
   ]
  },
  {
   "cell_type": "markdown",
   "id": "f7ebec41",
   "metadata": {},
   "source": [
    "#### KNN - Mark 1"
   ]
  },
  {
   "cell_type": "code",
   "execution_count": 47,
   "id": "85ff5087",
   "metadata": {},
   "outputs": [
    {
     "data": {
      "image/png": "[encoded data removed]",
      "text/plain": [
       "<Figure size 720x360 with 1 Axes>"
      ]
     },
     "metadata": {
      "needs_background": "light"
     },
     "output_type": "display_data"
    }
   ],
   "source": [
    "plot_roc_curve(knn, X_test, y_test)"
   ]
  },
  {
   "cell_type": "markdown",
   "id": "ae1d6b5b",
   "metadata": {},
   "source": [
    "#### Decision Tree Classifier - Mark 3"
   ]
  },
  {
   "cell_type": "code",
   "execution_count": 48,
   "id": "56f22eb6",
   "metadata": {},
   "outputs": [
    {
     "data": {
      "image/png": "[encoded data removed]",
      "text/plain": [
       "<Figure size 720x360 with 1 Axes>"
      ]
     },
     "metadata": {
      "needs_background": "light"
     },
     "output_type": "display_data"
    }
   ],
   "source": [
    "plot_roc_curve(decisionTree, X_test, y_test)"
   ]
  },
  {
   "cell_type": "markdown",
   "id": "e5677ff9",
   "metadata": {},
   "source": [
    "#### Logistic Regression - Mark 4"
   ]
  },
  {
   "cell_type": "code",
   "execution_count": 49,
   "id": "9a1ad11b",
   "metadata": {},
   "outputs": [
    {
     "data": {
      "image/png": "[encoded data removed]",
      "text/plain": [
       "<Figure size 720x360 with 1 Axes>"
      ]
     },
     "metadata": {
      "needs_background": "light"
     },
     "output_type": "display_data"
    }
   ],
   "source": [
    "plot_roc_curve(log, X_test, y_test)"
   ]
  },
  {
   "cell_type": "markdown",
   "id": "3cac51e8",
   "metadata": {},
   "source": [
    "### Comparando Modelos"
   ]
  },
  {
   "cell_type": "markdown",
   "id": "051d1f27",
   "metadata": {},
   "source": [
    "#### Comparando metricas"
   ]
  },
  {
   "cell_type": "code",
   "execution_count": 50,
   "id": "ed4f9a2c",
   "metadata": {},
   "outputs": [
    {
     "data": {
      "text/html": [
       "<div>\n",
       "<style scoped>\n",
       "    .dataframe tbody tr th:only-of-type {\n",
       "        vertical-align: middle;\n",
       "    }\n",
       "\n",
       "    .dataframe tbody tr th {\n",
       "        vertical-align: top;\n",
       "    }\n",
       "\n",
       "    .dataframe thead th {\n",
       "        text-align: right;\n",
       "    }\n",
       "</style>\n",
       "<table border=\"1\" class=\"dataframe\">\n",
       "  <thead>\n",
       "    <tr style=\"text-align: right;\">\n",
       "      <th></th>\n",
       "      <th>Name Model</th>\n",
       "      <th>Accuracy Score</th>\n",
       "      <th>F1 Score</th>\n",
       "      <th>Log Loss</th>\n",
       "      <th>Precision Score</th>\n",
       "      <th>Recall Score</th>\n",
       "      <th>Brier Score Loss</th>\n",
       "      <th>ROC AUC Score</th>\n",
       "    </tr>\n",
       "  </thead>\n",
       "  <tbody>\n",
       "    <tr>\n",
       "      <th>0</th>\n",
       "      <td>Mark_1</td>\n",
       "      <td>0.976608</td>\n",
       "      <td>0.818182</td>\n",
       "      <td>0.807934</td>\n",
       "      <td>0.818182</td>\n",
       "      <td>0.818182</td>\n",
       "      <td>0.023392</td>\n",
       "      <td>0.902841</td>\n",
       "    </tr>\n",
       "    <tr>\n",
       "      <th>2</th>\n",
       "      <td>Mark_3</td>\n",
       "      <td>0.947368</td>\n",
       "      <td>0.709677</td>\n",
       "      <td>1.817872</td>\n",
       "      <td>0.550000</td>\n",
       "      <td>1.000000</td>\n",
       "      <td>0.052632</td>\n",
       "      <td>0.971875</td>\n",
       "    </tr>\n",
       "    <tr>\n",
       "      <th>3</th>\n",
       "      <td>Mark_4</td>\n",
       "      <td>0.818713</td>\n",
       "      <td>0.415094</td>\n",
       "      <td>6.261561</td>\n",
       "      <td>0.261905</td>\n",
       "      <td>1.000000</td>\n",
       "      <td>0.181287</td>\n",
       "      <td>0.903125</td>\n",
       "    </tr>\n",
       "    <tr>\n",
       "      <th>1</th>\n",
       "      <td>Mark_2</td>\n",
       "      <td>0.777778</td>\n",
       "      <td>0.366667</td>\n",
       "      <td>7.675461</td>\n",
       "      <td>0.224490</td>\n",
       "      <td>1.000000</td>\n",
       "      <td>0.222222</td>\n",
       "      <td>0.881250</td>\n",
       "    </tr>\n",
       "  </tbody>\n",
       "</table>\n",
       "</div>"
      ],
      "text/plain": [
       "  Name Model  Accuracy Score  F1 Score  Log Loss  Precision Score  \\\n",
       "0     Mark_1        0.976608  0.818182  0.807934         0.818182   \n",
       "2     Mark_3        0.947368  0.709677  1.817872         0.550000   \n",
       "3     Mark_4        0.818713  0.415094  6.261561         0.261905   \n",
       "1     Mark_2        0.777778  0.366667  7.675461         0.224490   \n",
       "\n",
       "   Recall Score  Brier Score Loss  ROC AUC Score  \n",
       "0      0.818182          0.023392       0.902841  \n",
       "2      1.000000          0.052632       0.971875  \n",
       "3      1.000000          0.181287       0.903125  \n",
       "1      1.000000          0.222222       0.881250  "
      ]
     },
     "execution_count": 50,
     "metadata": {},
     "output_type": "execute_result"
    }
   ],
   "source": [
    "dic= {\n",
    "    'Mark_1': knn,\n",
    "    'Mark_2': svc,\n",
    "    'Mark_3': decisionTree,\n",
    "    'Mark_4': log\n",
    "}\n",
    "\n",
    "model_metrics(dic, X_test, y_test)"
   ]
  },
  {
   "cell_type": "markdown",
   "id": "baf64435",
   "metadata": {},
   "source": [
    "#### Comparando ganho monetario"
   ]
  },
  {
   "cell_type": "code",
   "execution_count": 51,
   "id": "c3be2220",
   "metadata": {},
   "outputs": [
    {
     "data": {
      "image/png": "[encoded data removed]",
      "text/plain": [
       "<Figure size 1080x360 with 1 Axes>"
      ]
     },
     "metadata": {
      "needs_background": "light"
     },
     "output_type": "display_data"
    }
   ],
   "source": [
    "evaluating_cost(dic, X_test, y_test)"
   ]
  },
  {
   "cell_type": "markdown",
   "id": "d90cb0ae",
   "metadata": {},
   "source": [
    "# 10. Resumo dos modelos\n",
    "\n",
    "1.\tFoi removido as colunas 'order_no', 'Date', 'Time', 'Month_Name' e 'description' pois elas se fazem desnecessárias para o treinamento do modelo;\n",
    "2.\tFoi categorizado e normalizado as colunas 'buyer', 'ship_city', 'ship_state', 'sku', 'cod', 'Year', 'Day_Name' e a coluna ‘order_status' so foi categorizada;\n",
    "3.\tOs dados foram balanceados, pois a proporção de “Delivered to buyer” é de 94% e “Returned to seller” é de 6%;\n",
    "4.\tOs dados foram balanceados em 21 registros para “Delivered to buyer” e 11 registros para “Returned to seller” (os únicos registros no dataset);\n",
    "5.\tFoi utilizado o GridSearchCV para otimização e validação de parâmetros;\n",
    "6.\tNa avaliação dos modelos, foi procurado o modelo que tivesse maior “Recall Score” e “ROC AUC Score”;\n",
    "7.\tModelo que saiu com melhor acurácia (97,66%) foi o Mark 1 (knn), mas foi o modelo que teve o pior “Recall Score” (81,81%);\n",
    "8.\tTodos os outros modelos tiveram o “Recall Score” de 100%, mas o modelo que teve o maior “ROC AUC Score” foi o Mark 3 (Decision Tree Classifier), com 97,19%;\n",
    "0. Para a simulação economica, para os gastos referente a devolução foi utilizado a media de gastos de entrega, um valor de 71.86, e para fixação (incentivo, brindes ou contato) foi definido o valor de 10 pontos monetarios;\n",
    "9.\tO modelo que trouxe maior ganho monetário foi o Mark 3 (Decision Tree Classifier), trazendo um ganho de 600 pontos monetários.\n"
   ]
  },
  {
   "cell_type": "code",
   "execution_count": null,
   "id": "f0fcaed3",
   "metadata": {},
   "outputs": [],
   "source": []
  }
 ],
 "metadata": {
  "kernelspec": {
   "display_name": "Python 3 (ipykernel)",
   "language": "python",
   "name": "python3"
  },
  "language_info": {
   "codemirror_mode": {
    "name": "ipython",
    "version": 3
   },
   "file_extension": ".py",
   "mimetype": "text/x-python",
   "name": "python",
   "nbconvert_exporter": "python",
   "pygments_lexer": "ipython3",
   "version": "3.9.7"
  }
 },
 "nbformat": 4,
 "nbformat_minor": 5
}
